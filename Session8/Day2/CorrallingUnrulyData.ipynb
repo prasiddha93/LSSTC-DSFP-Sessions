{
 "cells": [
  {
   "cell_type": "code",
   "execution_count": null,
   "metadata": {
    "slideshow": {
     "slide_type": "skip"
    }
   },
   "outputs": [],
   "source": [
    "import numpy as np\n",
    "import pandas as pd\n",
    "import matplotlib.pyplot as plt\n",
    "\n",
    "%matplotlib notebook"
   ]
  },
  {
   "cell_type": "markdown",
   "metadata": {
    "slideshow": {
     "slide_type": "slide"
    }
   },
   "source": [
    "# Wranglin' –– Corraling Unruly Data\n",
    "One bit at a time\n",
    "=====\n",
    "\n",
    "**Version 0.1**\n",
    "\n",
    "By AA Miller 2019 Mar 26"
   ]
  },
  {
   "cell_type": "markdown",
   "metadata": {
    "slideshow": {
     "slide_type": "slide"
    }
   },
   "source": [
    "Webster's Dictionary$^\\ast$ defines wrangler as:\n",
    "\n",
    "**wrangler** noun\n",
    "\n",
    "wran·gler | raŋ-g(ə-)lər\n",
    "\n",
    "(short for horse-wrangler, probably partial translation of Mexican Spanish caballerango groom): a ranch hand who takes care of the saddle horses broadly : cowboy "
   ]
  },
  {
   "cell_type": "markdown",
   "metadata": {
    "slideshow": {
     "slide_type": "subslide"
    }
   },
   "source": [
    "$^\\ast$actually https://www.merriam-webster.com/dictionary/ - Webster's didn't define wrangler in the way I wanted"
   ]
  },
  {
   "cell_type": "markdown",
   "metadata": {
    "slideshow": {
     "slide_type": "slide"
    }
   },
   "source": [
    "How then, as astronomers, are we all like cowhands?\n",
    "\n",
    "Data are often like horses in that: they all differ, rarely conform to a single standard set of behavior, and they love to eat hay.$^\\dagger$"
   ]
  },
  {
   "cell_type": "markdown",
   "metadata": {
    "slideshow": {
     "slide_type": "subslide"
    }
   },
   "source": [
    "$^\\dagger$I made that last one up."
   ]
  },
  {
   "cell_type": "markdown",
   "metadata": {
    "slideshow": {
     "slide_type": "slide"
    }
   },
   "source": [
    "Thus, in our efforts to better understand the Universe, we must often manipulate, coax, and, in some cases, force our data to \"behave.\" This involves a variety of tasks, such as: gathering, cleaning, matching, restructuring, transforming, filtering, combining, merging, verifying, and fixing data."
   ]
  },
  {
   "cell_type": "markdown",
   "metadata": {
    "slideshow": {
     "slide_type": "slide"
    }
   },
   "source": [
    "Here is a brief and unfortunate truth, there isn't a single person in the entire world that would organize data in *exactly* the same way that you would.\n",
    "\n",
    "As a result, you may find that data that are useful to you are not organized in an optimal fashion for use in your workflow/software.\n",
    "\n",
    "Hence: the need to wrangle."
   ]
  },
  {
   "cell_type": "markdown",
   "metadata": {
    "slideshow": {
     "slide_type": "slide"
    }
   },
   "source": [
    "There is one important and significant way in which our lives as astronomers are much better than the average data scientist: even though our data are \"worthless,\" virtually all of it is numbers.\n",
    "\n",
    "Furthermore, I contend that most astronomical data can easily be organized into a simple tabular structure."
   ]
  },
  {
   "cell_type": "markdown",
   "metadata": {
    "slideshow": {
     "slide_type": "subslide"
    }
   },
   "source": [
    "Yesterday we joked that you could write a 10 page text document describing every individual galaxy in a galaxy cluster with 5000 members, but no one would ever do that."
   ]
  },
  {
   "cell_type": "markdown",
   "metadata": {
    "slideshow": {
     "slide_type": "slide"
    }
   },
   "source": [
    "Nevertheless, as you will see during the exercises, even with relatively simple, small numerical data sets there is a need for wrangling.\n",
    "\n",
    "And wrangling brings up a lot of issues..."
   ]
  },
  {
   "cell_type": "markdown",
   "metadata": {
    "slideshow": {
     "slide_type": "slide"
    }
   },
   "source": [
    "Consider the following data set that contains the street names for my best friends from childhood:\n",
    "\n",
    "    ['Ewing', 'Isabella', 'Reese', 'Isabella', \n",
    "     'Thayer', 'Reese', 'Reese', 'Ewing', 'Reece']\n",
    "\n",
    "Do you notice anything interesting?"
   ]
  },
  {
   "cell_type": "markdown",
   "metadata": {
    "slideshow": {
     "slide_type": "slide"
    }
   },
   "source": [
    "Either my hometown has a street named \"Reese\"  and a street named \"Reece\", or the last entry was input incorrectly. \n",
    "\n",
    "If the later is true, then we have to raise the question of: what should we do?"
   ]
  },
  {
   "cell_type": "markdown",
   "metadata": {
    "slideshow": {
     "slide_type": "slide"
    }
   },
   "source": [
    "For this particular data set, it would be possible to create a verification procedure to test for similar errors.\n",
    "\n",
    "1. Collect the names of every street in the city (from post office?)\n",
    "2. Confirm every instance in the data set has a counterpart.\n",
    "\n",
    "For any instances where this isn't the case, one could then intervene with a correction. "
   ]
  },
  {
   "cell_type": "markdown",
   "metadata": {
    "slideshow": {
     "slide_type": "slide"
    }
   },
   "source": [
    "This particular verification catches this street name error, but it doesn't correct for the possibility that the person doing the data entry may have been reading addresses really quickly and the third \"Reese\" entry should have actually said \"Lawndale.\"\n",
    "\n",
    "(verification is really hard)"
   ]
  },
  {
   "cell_type": "markdown",
   "metadata": {
    "slideshow": {
     "slide_type": "slide"
    }
   },
   "source": [
    "This also raises a question about data provenance. \n",
    "\n",
    "Data provenance is a historical record of the data and its origins."
   ]
  },
  {
   "cell_type": "markdown",
   "metadata": {
    "slideshow": {
     "slide_type": "slide"
    }
   },
   "source": [
    "If you are making \"corrections\" to the data, then each and every one of those corrections should be reported (this is similar to the idea of logging from yesterday's databases talk). Ideally, these reports would live with the data so others could understand how things have changed.\n",
    "\n",
    "If you did change \"Reece\" to \"Reese\", anyone working with the data should be able to confirm those changes."
   ]
  },
  {
   "cell_type": "markdown",
   "metadata": {
    "slideshow": {
     "slide_type": "slide"
    }
   },
   "source": [
    "Suppose now you wanted to use the same street name data set to estimate which street I lived on while growing up. \n",
    "\n",
    "One way to mathematically approach this problem would be to convert the streets in the data set to GPS coordinates, and then to perform a KDE of the PDF for the coordinates of where I lived. \n",
    "\n",
    "This too is a form of wrangling, because the data you have (street names) are not the data you need (coordinates). "
   ]
  },
  {
   "cell_type": "markdown",
   "metadata": {
    "slideshow": {
     "slide_type": "slide"
    }
   },
   "source": [
    "Why harp on this? \n",
    "\n",
    "In practice, data scientists (including astronomers) spend an unreasonable amount of time manipulating and quality checking data (some indsutry experts estimate that up to 80% of their time is spent warnglin').\n",
    "\n",
    "Today, we will work through several examples that require wrangling, while, hopefully, building some strategies to minimize the amount of time you spend on these tasks in the future."
   ]
  },
  {
   "cell_type": "markdown",
   "metadata": {
    "slideshow": {
     "slide_type": "slide"
    }
   },
   "source": [
    "For completeness, I will mention that there is a famous canonical paper about [data wrangling](http://vis.stanford.edu/files/2011-Wrangler-CHI.pdf), which introduces the [`Wrangler`](http://vis.stanford.edu/wrangler/), a tool specifically designed to take heterogeneous (text) data, and provide a set of suggested operations/manipulations to  create a homogenous table amenable to standard statistical analysis. \n",
    "\n",
    "One extremely nice property of the `Wrangler` is that it records every operation performed on the data, ensuring high-fidelity reporting on the data provenance. We should do a better job of this in astronomy."
   ]
  },
  {
   "cell_type": "markdown",
   "metadata": {
    "slideshow": {
     "slide_type": "slide"
    }
   },
   "source": [
    "Today, we are going to focus on `python` solutions to some specific astronomical data sets.\n",
    "\n",
    "Hopefully you learn some tricks to make your work easier in the future."
   ]
  },
  {
   "cell_type": "markdown",
   "metadata": {
    "slideshow": {
     "slide_type": "slide"
    }
   },
   "source": [
    "## Problem 1) The Sins of Our Predecessors"
   ]
  },
  {
   "cell_type": "markdown",
   "metadata": {
    "slideshow": {
     "slide_type": "slide"
    }
   },
   "source": [
    "If at any point in your career you need to access archival infrared data, you will likely need to retrieve that information from the [NASA IPAC InfRed Science Archive](https://irsa.ipac.caltech.edu). IRSA houses the data for every major NASA IR mission, and several ground-based missions as well (e.g., 2MASS, IRTF). Whether you are sudying brown dwarfs, explosive transients, solar system objects, star-formation, galaxy evolution, Milky Way dust and the resulting extinction of extragalactic observations, or quasars (and much more) the IR plays a critical role."
   ]
  },
  {
   "cell_type": "markdown",
   "metadata": {
    "slideshow": {
     "slide_type": "subslide"
    }
   },
   "source": [
    "Given the importance of IR observations, it stands to reason that IRSA would provide data in a simple to read format for modern machines, such as comma separated values or FITS binary tables...\n",
    "\n",
    "Right?..."
   ]
  },
  {
   "cell_type": "markdown",
   "metadata": {
    "slideshow": {
     "slide_type": "subslide"
    }
   },
   "source": [
    "**Right?...**"
   ]
  },
  {
   "cell_type": "markdown",
   "metadata": {
    "slideshow": {
     "slide_type": "subslide"
    }
   },
   "source": [
    "In fact, IRSA has created their own standard for storing data in a text file. If you haven't already, please download [irsa_catalog_WISE_iPTF14jg_search_results.tbl](https://northwestern.box.com/s/9lnpqwcmmke2f5wqptk2q1409kfydc2i), a file that is written in the standard IRSA format."
   ]
  },
  {
   "cell_type": "markdown",
   "metadata": {
    "slideshow": {
     "slide_type": "skip"
    }
   },
   "source": [
    "*shameless plug alert!* iPTF14jg is a [really strange star](https://arxiv.org/pdf/1901.10693.pdf) that exhibited a large outburst that we still don't totally understand. The associated data file includes [NEOWISE](https://neowise.ipac.caltech.edu/) observations of the mid-IR evolution of this outburst."
   ]
  },
  {
   "cell_type": "markdown",
   "metadata": {
    "slideshow": {
     "slide_type": "slide"
    }
   },
   "source": [
    "**Problem 1a**\n",
    "\n",
    "Using `pandas` read the data in the IRSA table file into a `DataFrame` object.\n",
    "\n",
    "*Hint 1* - you absolutely should look at the text file to develop a strategy to accomplish this goal.\n",
    "\n",
    "*Hint 2* - you may want to manipulate the text file so that it can more easily be read by `pandas`. **If you do this** be sure to copy the file to another name as you will want to leave the original intact. "
   ]
  },
  {
   "cell_type": "code",
   "execution_count": 14,
   "metadata": {
    "slideshow": {
     "slide_type": "subslide"
    }
   },
   "outputs": [
    {
     "name": "stderr",
     "output_type": "stream",
     "text": [
      "/home/prasiddha93/anaconda2/envs/DSFP/lib/python3.6/site-packages/ipykernel_launcher.py:4: FutureWarning: read_table is deprecated, use read_csv instead, passing sep='\\t'.\n",
      "  after removing the cwd from sys.path.\n"
     ]
    },
    {
     "data": {
      "text/html": [
       "<div>\n",
       "<style scoped>\n",
       "    .dataframe tbody tr th:only-of-type {\n",
       "        vertical-align: middle;\n",
       "    }\n",
       "\n",
       "    .dataframe tbody tr th {\n",
       "        vertical-align: top;\n",
       "    }\n",
       "\n",
       "    .dataframe thead th {\n",
       "        text-align: right;\n",
       "    }\n",
       "</style>\n",
       "<table border=\"1\" class=\"dataframe\">\n",
       "  <thead>\n",
       "    <tr style=\"text-align: right;\">\n",
       "      <th></th>\n",
       "      <th>\\fixlen = T</th>\n",
       "    </tr>\n",
       "  </thead>\n",
       "  <tbody>\n",
       "    <tr>\n",
       "      <th>0</th>\n",
       "      <td>\\RowsRetrieved = 137</td>\n",
       "    </tr>\n",
       "    <tr>\n",
       "      <th>1</th>\n",
       "      <td>\\ORIGIN = 'IPAC Infrared Science Archive (IRSA...</td>\n",
       "    </tr>\n",
       "    <tr>\n",
       "      <th>2</th>\n",
       "      <td>\\DATETIME = '2019-03-21 09:05:51'</td>\n",
       "    </tr>\n",
       "    <tr>\n",
       "      <th>3</th>\n",
       "      <td>\\DataTag = 'ADS/IRSA.Gator#2019/0321/090551_4032'</td>\n",
       "    </tr>\n",
       "    <tr>\n",
       "      <th>4</th>\n",
       "      <td>\\DATABASE = 'NEOWISE-R Single Exposure (L1b) S...</td>\n",
       "    </tr>\n",
       "    <tr>\n",
       "      <th>5</th>\n",
       "      <td>\\EQUINOX = 'J2000'</td>\n",
       "    </tr>\n",
       "    <tr>\n",
       "      <th>6</th>\n",
       "      <td>\\SKYAREA = 'within 2 arcsec of  ra=40.12558 de...</td>\n",
       "    </tr>\n",
       "    <tr>\n",
       "      <th>7</th>\n",
       "      <td>\\StatusFile = '/workspace/TMP_SOmSjA_2912/Gato...</td>\n",
       "    </tr>\n",
       "    <tr>\n",
       "      <th>8</th>\n",
       "      <td>\\SQL = 'WHERE (no constraints)</td>\n",
       "    </tr>\n",
       "    <tr>\n",
       "      <th>9</th>\n",
       "      <td>\\SQL = 'SELECT (37 column names follow in next...</td>\n",
       "    </tr>\n",
       "    <tr>\n",
       "      <th>10</th>\n",
       "      <td>\\</td>\n",
       "    </tr>\n",
       "    <tr>\n",
       "      <th>11</th>\n",
       "      <td>\\</td>\n",
       "    </tr>\n",
       "    <tr>\n",
       "      <th>12</th>\n",
       "      <td>\\ ra (deg)</td>\n",
       "    </tr>\n",
       "    <tr>\n",
       "      <th>13</th>\n",
       "      <td>\\ ___ right ascension (J2000)</td>\n",
       "    </tr>\n",
       "    <tr>\n",
       "      <th>14</th>\n",
       "      <td>\\ dec (deg)</td>\n",
       "    </tr>\n",
       "    <tr>\n",
       "      <th>15</th>\n",
       "      <td>\\ ___ declination (J2000)</td>\n",
       "    </tr>\n",
       "    <tr>\n",
       "      <th>16</th>\n",
       "      <td>\\ sigra (arcsec)</td>\n",
       "    </tr>\n",
       "    <tr>\n",
       "      <th>17</th>\n",
       "      <td>\\ ___ uncertainty in RA</td>\n",
       "    </tr>\n",
       "    <tr>\n",
       "      <th>18</th>\n",
       "      <td>\\ sigdec (arcsec)</td>\n",
       "    </tr>\n",
       "    <tr>\n",
       "      <th>19</th>\n",
       "      <td>\\ ___ uncertainty in DEC</td>\n",
       "    </tr>\n",
       "    <tr>\n",
       "      <th>20</th>\n",
       "      <td>\\ sigradec (arcsec)</td>\n",
       "    </tr>\n",
       "    <tr>\n",
       "      <th>21</th>\n",
       "      <td>\\ ___ uncertainty cross-term</td>\n",
       "    </tr>\n",
       "    <tr>\n",
       "      <th>22</th>\n",
       "      <td>\\ w1mpro (mag)</td>\n",
       "    </tr>\n",
       "    <tr>\n",
       "      <th>23</th>\n",
       "      <td>\\ ___ instrumental profile-fit photometry magn...</td>\n",
       "    </tr>\n",
       "    <tr>\n",
       "      <th>24</th>\n",
       "      <td>\\ w1sigmpro (mag)</td>\n",
       "    </tr>\n",
       "    <tr>\n",
       "      <th>25</th>\n",
       "      <td>\\ ___ instrumental profile-fit photometry flux...</td>\n",
       "    </tr>\n",
       "    <tr>\n",
       "      <th>26</th>\n",
       "      <td>\\ w1snr</td>\n",
       "    </tr>\n",
       "    <tr>\n",
       "      <th>27</th>\n",
       "      <td>\\ ___ instrumental profile-fit photometry S/N ...</td>\n",
       "    </tr>\n",
       "    <tr>\n",
       "      <th>28</th>\n",
       "      <td>\\ w1rchi2</td>\n",
       "    </tr>\n",
       "    <tr>\n",
       "      <th>29</th>\n",
       "      <td>\\ ___ instrumental profile-fit photometry redu...</td>\n",
       "    </tr>\n",
       "    <tr>\n",
       "      <th>...</th>\n",
       "      <td>...</td>\n",
       "    </tr>\n",
       "    <tr>\n",
       "      <th>199</th>\n",
       "      <td>40.1254261 60.8792422 0.0566 0.0604  -0.0231 ...</td>\n",
       "    </tr>\n",
       "    <tr>\n",
       "      <th>200</th>\n",
       "      <td>40.1254712 60.8792222 0.0934 0.1036  -0.0309 ...</td>\n",
       "    </tr>\n",
       "    <tr>\n",
       "      <th>201</th>\n",
       "      <td>40.1254678 60.8792187 0.1061 0.0965  -0.0289 ...</td>\n",
       "    </tr>\n",
       "    <tr>\n",
       "      <th>202</th>\n",
       "      <td>40.1254919 60.8792120 0.0641 0.0598  -0.0116 ...</td>\n",
       "    </tr>\n",
       "    <tr>\n",
       "      <th>203</th>\n",
       "      <td>40.1254533 60.8792216 0.1392 0.1355  -0.0157 ...</td>\n",
       "    </tr>\n",
       "    <tr>\n",
       "      <th>204</th>\n",
       "      <td>40.1254765 60.8792145 0.0693 0.0593  -0.0215 ...</td>\n",
       "    </tr>\n",
       "    <tr>\n",
       "      <th>205</th>\n",
       "      <td>40.1255152 60.8792034 0.0996 0.1017  -0.0465 ...</td>\n",
       "    </tr>\n",
       "    <tr>\n",
       "      <th>206</th>\n",
       "      <td>40.1255455 60.8791987 0.0624 0.0637  -0.0253 ...</td>\n",
       "    </tr>\n",
       "    <tr>\n",
       "      <th>207</th>\n",
       "      <td>40.1254128 60.8792308 0.1117 0.0983  -0.0327 ...</td>\n",
       "    </tr>\n",
       "    <tr>\n",
       "      <th>208</th>\n",
       "      <td>40.1255488 60.8791972 0.1106 0.1071  -0.0409 ...</td>\n",
       "    </tr>\n",
       "    <tr>\n",
       "      <th>209</th>\n",
       "      <td>40.1255041 60.8792023 0.1058 0.1041  -0.0286 ...</td>\n",
       "    </tr>\n",
       "    <tr>\n",
       "      <th>210</th>\n",
       "      <td>40.1254421 60.8792179 0.0626 0.0649  -0.0298 ...</td>\n",
       "    </tr>\n",
       "    <tr>\n",
       "      <th>211</th>\n",
       "      <td>40.1254363 60.8792199 0.0884 0.0961  -0.0319 ...</td>\n",
       "    </tr>\n",
       "    <tr>\n",
       "      <th>212</th>\n",
       "      <td>40.1254819 60.8792058 0.1017 0.1033  -0.0525 ...</td>\n",
       "    </tr>\n",
       "    <tr>\n",
       "      <th>213</th>\n",
       "      <td>40.1255084 60.8792008 0.0595 0.0601  -0.0209 ...</td>\n",
       "    </tr>\n",
       "    <tr>\n",
       "      <th>214</th>\n",
       "      <td>40.1254239 60.8792209 0.1131 0.1030  -0.0190 ...</td>\n",
       "    </tr>\n",
       "    <tr>\n",
       "      <th>215</th>\n",
       "      <td>40.1255101 60.8791979 0.0688 0.0660  -0.0268 ...</td>\n",
       "    </tr>\n",
       "    <tr>\n",
       "      <th>216</th>\n",
       "      <td>40.1255504 60.8791936 0.1250 0.1098  -0.0364 ...</td>\n",
       "    </tr>\n",
       "    <tr>\n",
       "      <th>217</th>\n",
       "      <td>40.1254655 60.8792057 0.0295 0.0298   0.0088 ...</td>\n",
       "    </tr>\n",
       "    <tr>\n",
       "      <th>218</th>\n",
       "      <td>40.1255491 60.8791925 0.1361 0.1355  -0.0620 ...</td>\n",
       "    </tr>\n",
       "    <tr>\n",
       "      <th>219</th>\n",
       "      <td>40.1253863 60.8792324 0.1362 0.1200  -0.0418 ...</td>\n",
       "    </tr>\n",
       "    <tr>\n",
       "      <th>220</th>\n",
       "      <td>40.1254017 60.8792188 0.1756 0.1349  -0.0354 ...</td>\n",
       "    </tr>\n",
       "    <tr>\n",
       "      <th>221</th>\n",
       "      <td>40.1254504 60.8791953 0.0650 0.0627  -0.0236 ...</td>\n",
       "    </tr>\n",
       "    <tr>\n",
       "      <th>222</th>\n",
       "      <td>40.1254195 60.8791910 0.0736 0.0604  -0.0255 ...</td>\n",
       "    </tr>\n",
       "    <tr>\n",
       "      <th>223</th>\n",
       "      <td>40.1253594 60.8792163 0.0631 0.0675  -0.0093 ...</td>\n",
       "    </tr>\n",
       "    <tr>\n",
       "      <th>224</th>\n",
       "      <td>40.1252771 60.8793411 0.1150 0.1078  -0.0397 ...</td>\n",
       "    </tr>\n",
       "    <tr>\n",
       "      <th>225</th>\n",
       "      <td>40.1253172 60.8792186 0.1035 0.1091  -0.0272 ...</td>\n",
       "    </tr>\n",
       "    <tr>\n",
       "      <th>226</th>\n",
       "      <td>40.1256247 60.8791518 0.1463 0.1293  -0.0575 ...</td>\n",
       "    </tr>\n",
       "    <tr>\n",
       "      <th>227</th>\n",
       "      <td>40.1252789 60.8792352 0.1174 0.1057  -0.0497 ...</td>\n",
       "    </tr>\n",
       "    <tr>\n",
       "      <th>228</th>\n",
       "      <td>40.1260438 60.8791845 0.1911 0.1661  -0.0549 ...</td>\n",
       "    </tr>\n",
       "  </tbody>\n",
       "</table>\n",
       "<p>229 rows × 1 columns</p>\n",
       "</div>"
      ],
      "text/plain": [
       "                                           \\fixlen = T\n",
       "0                                 \\RowsRetrieved = 137\n",
       "1    \\ORIGIN = 'IPAC Infrared Science Archive (IRSA...\n",
       "2                    \\DATETIME = '2019-03-21 09:05:51'\n",
       "3    \\DataTag = 'ADS/IRSA.Gator#2019/0321/090551_4032'\n",
       "4    \\DATABASE = 'NEOWISE-R Single Exposure (L1b) S...\n",
       "5                                   \\EQUINOX = 'J2000'\n",
       "6    \\SKYAREA = 'within 2 arcsec of  ra=40.12558 de...\n",
       "7    \\StatusFile = '/workspace/TMP_SOmSjA_2912/Gato...\n",
       "8                       \\SQL = 'WHERE (no constraints)\n",
       "9    \\SQL = 'SELECT (37 column names follow in next...\n",
       "10                                                  \\ \n",
       "11                                                  \\ \n",
       "12                                          \\ ra (deg)\n",
       "13                       \\ ___ right ascension (J2000)\n",
       "14                                         \\ dec (deg)\n",
       "15                           \\ ___ declination (J2000)\n",
       "16                                    \\ sigra (arcsec)\n",
       "17                             \\ ___ uncertainty in RA\n",
       "18                                   \\ sigdec (arcsec)\n",
       "19                            \\ ___ uncertainty in DEC\n",
       "20                                 \\ sigradec (arcsec)\n",
       "21                        \\ ___ uncertainty cross-term\n",
       "22                                      \\ w1mpro (mag)\n",
       "23   \\ ___ instrumental profile-fit photometry magn...\n",
       "24                                   \\ w1sigmpro (mag)\n",
       "25   \\ ___ instrumental profile-fit photometry flux...\n",
       "26                                             \\ w1snr\n",
       "27   \\ ___ instrumental profile-fit photometry S/N ...\n",
       "28                                           \\ w1rchi2\n",
       "29   \\ ___ instrumental profile-fit photometry redu...\n",
       "..                                                 ...\n",
       "199   40.1254261 60.8792422 0.0566 0.0604  -0.0231 ...\n",
       "200   40.1254712 60.8792222 0.0934 0.1036  -0.0309 ...\n",
       "201   40.1254678 60.8792187 0.1061 0.0965  -0.0289 ...\n",
       "202   40.1254919 60.8792120 0.0641 0.0598  -0.0116 ...\n",
       "203   40.1254533 60.8792216 0.1392 0.1355  -0.0157 ...\n",
       "204   40.1254765 60.8792145 0.0693 0.0593  -0.0215 ...\n",
       "205   40.1255152 60.8792034 0.0996 0.1017  -0.0465 ...\n",
       "206   40.1255455 60.8791987 0.0624 0.0637  -0.0253 ...\n",
       "207   40.1254128 60.8792308 0.1117 0.0983  -0.0327 ...\n",
       "208   40.1255488 60.8791972 0.1106 0.1071  -0.0409 ...\n",
       "209   40.1255041 60.8792023 0.1058 0.1041  -0.0286 ...\n",
       "210   40.1254421 60.8792179 0.0626 0.0649  -0.0298 ...\n",
       "211   40.1254363 60.8792199 0.0884 0.0961  -0.0319 ...\n",
       "212   40.1254819 60.8792058 0.1017 0.1033  -0.0525 ...\n",
       "213   40.1255084 60.8792008 0.0595 0.0601  -0.0209 ...\n",
       "214   40.1254239 60.8792209 0.1131 0.1030  -0.0190 ...\n",
       "215   40.1255101 60.8791979 0.0688 0.0660  -0.0268 ...\n",
       "216   40.1255504 60.8791936 0.1250 0.1098  -0.0364 ...\n",
       "217   40.1254655 60.8792057 0.0295 0.0298   0.0088 ...\n",
       "218   40.1255491 60.8791925 0.1361 0.1355  -0.0620 ...\n",
       "219   40.1253863 60.8792324 0.1362 0.1200  -0.0418 ...\n",
       "220   40.1254017 60.8792188 0.1756 0.1349  -0.0354 ...\n",
       "221   40.1254504 60.8791953 0.0650 0.0627  -0.0236 ...\n",
       "222   40.1254195 60.8791910 0.0736 0.0604  -0.0255 ...\n",
       "223   40.1253594 60.8792163 0.0631 0.0675  -0.0093 ...\n",
       "224   40.1252771 60.8793411 0.1150 0.1078  -0.0397 ...\n",
       "225   40.1253172 60.8792186 0.1035 0.1091  -0.0272 ...\n",
       "226   40.1256247 60.8791518 0.1463 0.1293  -0.0575 ...\n",
       "227   40.1252789 60.8792352 0.1174 0.1057  -0.0497 ...\n",
       "228   40.1260438 60.8791845 0.1911 0.1661  -0.0549 ...\n",
       "\n",
       "[229 rows x 1 columns]"
      ]
     },
     "execution_count": 14,
     "metadata": {},
     "output_type": "execute_result"
    }
   ],
   "source": [
    "import numpy as np\n",
    "import pandas as pd\n",
    "\n",
    "df = pd.read_table('irsa_catalog_WISE_iPTF14jg_search_results.tbl')\n",
    "columns = pd.read"
   ]
  },
  {
   "cell_type": "markdown",
   "metadata": {
    "slideshow": {
     "slide_type": "subslide"
    }
   },
   "source": [
    "That pure python solution is a bit annoying as it requires a for loop with a break, and specific knowledge about how IRSA tables handler data headers (hence the use of `linenum + 4` for `skiprows`). Alternatively, one could  manipulate the data file to read in the data."
   ]
  },
  {
   "cell_type": "code",
   "execution_count": 23,
   "metadata": {
    "slideshow": {
     "slide_type": "subslide"
    }
   },
   "outputs": [
    {
     "ename": "SyntaxError",
     "evalue": "unexpected EOF while parsing (<ipython-input-23-80bf3e9dedf6>, line 2)",
     "output_type": "error",
     "traceback": [
      "\u001b[0;36m  File \u001b[0;32m\"<ipython-input-23-80bf3e9dedf6>\"\u001b[0;36m, line \u001b[0;32m2\u001b[0m\n\u001b[0;31m    if df.iloc[i][0][0] == '\\\\':\u001b[0m\n\u001b[0m                                ^\u001b[0m\n\u001b[0;31mSyntaxError\u001b[0m\u001b[0;31m:\u001b[0m unexpected EOF while parsing\n"
     ]
    }
   ],
   "source": []
  },
  {
   "cell_type": "markdown",
   "metadata": {
    "slideshow": {
     "slide_type": "subslide"
    }
   },
   "source": [
    "That truly wasn't all that better - as it required a bunch of clicks/text editor edits. (There are programs such as `sed` and `awk` that could be used to execute all the necessary edits from the command line, but that too is cumbersome and somewhat like the initial all `python` solution). \n",
    "\n",
    "If astronomers are creating data in a \"standard\" format, then it ought to be easy for other astronomers to access that data."
   ]
  },
  {
   "cell_type": "markdown",
   "metadata": {
    "slideshow": {
     "slide_type": "subslide"
    }
   },
   "source": [
    "Fortunately, in this particular case, there is an easy solution - [`astropy Tables`](http://docs.astropy.org/en/stable/table/). \n",
    "\n",
    "IRSA tables are so commonly used throughout the community, that the folks at `astropy` have created a convenience method for all of us to read in tables created in that particular (unusual?) format."
   ]
  },
  {
   "cell_type": "markdown",
   "metadata": {
    "slideshow": {
     "slide_type": "slide"
    }
   },
   "source": [
    "**Problem 1b**\n",
    "\n",
    "Use [`Table.read()`](http://docs.astropy.org/en/stable/api/astropy.table.Table.html#astropy.table.Table.read) to read in `irsa_catalog_WISE_iPTF14jg_search_results.tbl` to an `astropy Table` object."
   ]
  },
  {
   "cell_type": "code",
   "execution_count": 32,
   "metadata": {
    "slideshow": {
     "slide_type": "subslide"
    }
   },
   "outputs": [
    {
     "data": {
      "text/html": [
       "<i>Table masked=True length=137</i>\n",
       "<table id=\"table140700375239480\" class=\"table-striped table-bordered table-condensed\">\n",
       "<thead><tr><th>ra</th><th>dec</th><th>sigra</th><th>sigdec</th><th>sigradec</th><th>w1mpro</th><th>w1sigmpro</th><th>w1snr</th><th>w1rchi2</th><th>w2mpro</th><th>w2sigmpro</th><th>w2snr</th><th>w2rchi2</th><th>nb</th><th>na</th><th>cc_flags</th><th>ph_qual</th><th>qual_frame</th><th>mjd</th><th>allwise_cntr</th><th>w1mpro_allwise</th><th>w1sigmpro_allwise</th><th>w2mpro_allwise</th><th>w2sigmpro_allwise</th><th>w3mpro_allwise</th><th>w3sigmpro_allwise</th><th>w4mpro_allwise</th><th>w4sigmpro_allwise</th><th>tmass_key</th><th>j_m_2mass</th><th>j_msig_2mass</th><th>h_m_2mass</th><th>h_msig_2mass</th><th>k_m_2mass</th><th>k_msig_2mass</th><th>dist</th><th>angle</th></tr></thead>\n",
       "<thead><tr><th>deg</th><th>deg</th><th>arcsec</th><th>arcsec</th><th>arcsec</th><th>mag</th><th>mag</th><th></th><th></th><th>mag</th><th>mag</th><th></th><th></th><th></th><th></th><th></th><th></th><th></th><th>mjdate</th><th></th><th>mag</th><th>mag</th><th>mag</th><th>mag</th><th>mag</th><th>mag</th><th>mag</th><th>mag</th><th></th><th>mag</th><th>mag</th><th>mag</th><th>mag</th><th>mag</th><th>mag</th><th>arcsec</th><th>deg</th></tr></thead>\n",
       "<thead><tr><th>float64</th><th>float64</th><th>float64</th><th>float64</th><th>float64</th><th>float64</th><th>float64</th><th>float64</th><th>float64</th><th>float64</th><th>float64</th><th>float64</th><th>float64</th><th>int64</th><th>int64</th><th>str4</th><th>str2</th><th>int64</th><th>float64</th><th>int64</th><th>float64</th><th>float64</th><th>float64</th><th>float64</th><th>float64</th><th>float64</th><th>float64</th><th>float64</th><th>int64</th><th>float64</th><th>float64</th><th>float64</th><th>float64</th><th>float64</th><th>float64</th><th>float64</th><th>float64</th></tr></thead>\n",
       "<tr><td>40.1255655</td><td>60.8793063</td><td>0.0947</td><td>0.0936</td><td>-0.0337</td><td>13.251</td><td>0.038</td><td>28.8</td><td>0.8767</td><td>12.735</td><td>0.058</td><td>18.6</td><td>0.7135</td><td>1</td><td>0</td><td>0000</td><td>AA</td><td>10</td><td>57621.23501414</td><td>--</td><td>--</td><td>--</td><td>--</td><td>--</td><td>--</td><td>--</td><td>--</td><td>--</td><td>--</td><td>--</td><td>--</td><td>--</td><td>--</td><td>--</td><td>--</td><td>0.028668</td><td>242.330013</td></tr>\n",
       "<tr><td>40.125574</td><td>60.879297</td><td>0.0925</td><td>0.0874</td><td>-0.0397</td><td>13.241</td><td>0.036</td><td>30.0</td><td>1.261</td><td>12.629</td><td>0.051</td><td>21.2</td><td>1.121</td><td>1</td><td>0</td><td>0000</td><td>AA</td><td>5</td><td>57621.62810604</td><td>--</td><td>--</td><td>--</td><td>--</td><td>--</td><td>--</td><td>--</td><td>--</td><td>--</td><td>--</td><td>--</td><td>--</td><td>--</td><td>--</td><td>--</td><td>--</td><td>0.048011</td><td>192.659014</td></tr>\n",
       "<tr><td>40.1256226</td><td>60.8793176</td><td>0.0808</td><td>0.0794</td><td>0.0098</td><td>12.753</td><td>0.039</td><td>27.8</td><td>0.764</td><td>11.901</td><td>0.034</td><td>32.0</td><td>1.059</td><td>1</td><td>0</td><td>0000</td><td>AA</td><td>10</td><td>57063.79830186</td><td>--</td><td>--</td><td>--</td><td>--</td><td>--</td><td>--</td><td>--</td><td>--</td><td>--</td><td>--</td><td>--</td><td>--</td><td>--</td><td>--</td><td>--</td><td>--</td><td>0.079498</td><td>69.867298</td></tr>\n",
       "<tr><td>40.1255528</td><td>60.8792864</td><td>0.0663</td><td>0.0608</td><td>-0.0156</td><td>12.774</td><td>0.028</td><td>38.6</td><td>1.361</td><td>11.935</td><td>0.037</td><td>29.3</td><td>0.7133</td><td>1</td><td>0</td><td>0000</td><td>AA</td><td>10</td><td>57256.77485551</td><td>--</td><td>--</td><td>--</td><td>--</td><td>--</td><td>--</td><td>--</td><td>--</td><td>--</td><td>--</td><td>--</td><td>--</td><td>--</td><td>--</td><td>--</td><td>--</td><td>0.097389</td><td>209.287467</td></tr>\n",
       "<tr><td>40.1255725</td><td>60.8792803</td><td>0.0645</td><td>0.0599</td><td>-0.0223</td><td>12.84</td><td>0.028</td><td>38.7</td><td>1.555</td><td>11.897</td><td>0.031</td><td>35.1</td><td>1.045</td><td>1</td><td>0</td><td>0000</td><td>AA</td><td>5</td><td>57257.10275142</td><td>--</td><td>--</td><td>--</td><td>--</td><td>--</td><td>--</td><td>--</td><td>--</td><td>--</td><td>--</td><td>--</td><td>--</td><td>--</td><td>--</td><td>--</td><td>--</td><td>0.107707</td><td>187.00605</td></tr>\n",
       "<tr><td>40.1255736</td><td>60.8792799</td><td>0.1164</td><td>0.1059</td><td>-0.039</td><td>13.587</td><td>0.041</td><td>26.4</td><td>1.647</td><td>13.145</td><td>0.076</td><td>14.3</td><td>1.03</td><td>1</td><td>0</td><td>0000</td><td>AA</td><td>5</td><td>57987.97028435</td><td>--</td><td>--</td><td>--</td><td>--</td><td>--</td><td>--</td><td>--</td><td>--</td><td>--</td><td>--</td><td>--</td><td>--</td><td>--</td><td>--</td><td>--</td><td>--</td><td>0.108928</td><td>185.907602</td></tr>\n",
       "<tr><td>40.1255644</td><td>60.8792744</td><td>0.0856</td><td>0.086</td><td>-0.031</td><td>13.198</td><td>0.035</td><td>31.2</td><td>1.725</td><td>12.644</td><td>0.05</td><td>21.7</td><td>0.7308</td><td>1</td><td>0</td><td>0000</td><td>AA</td><td>5</td><td>57620.84192211</td><td>--</td><td>--</td><td>--</td><td>--</td><td>--</td><td>--</td><td>--</td><td>--</td><td>--</td><td>--</td><td>--</td><td>--</td><td>--</td><td>--</td><td>--</td><td>--</td><td>0.131052</td><td>192.038104</td></tr>\n",
       "<tr><td>40.1255517</td><td>60.8792713</td><td>0.0679</td><td>0.0685</td><td>-0.0218</td><td>12.807</td><td>0.028</td><td>38.8</td><td>1.466</td><td>11.989</td><td>0.038</td><td>28.3</td><td>0.7736</td><td>1</td><td>0</td><td>0000</td><td>AA</td><td>10</td><td>57256.64356978</td><td>--</td><td>--</td><td>--</td><td>--</td><td>--</td><td>--</td><td>--</td><td>--</td><td>--</td><td>--</td><td>--</td><td>--</td><td>--</td><td>--</td><td>--</td><td>--</td><td>0.147884</td><td>199.589209</td></tr>\n",
       "<tr><td>40.1255718</td><td>60.8792687</td><td>0.1224</td><td>0.1104</td><td>-0.0547</td><td>13.496</td><td>0.044</td><td>24.6</td><td>0.9767</td><td>12.739</td><td>0.064</td><td>17.1</td><td>1.444</td><td>1</td><td>0</td><td>0000</td><td>AA</td><td>10</td><td>57787.46478715</td><td>--</td><td>--</td><td>--</td><td>--</td><td>--</td><td>--</td><td>--</td><td>--</td><td>--</td><td>--</td><td>--</td><td>--</td><td>--</td><td>--</td><td>--</td><td>--</td><td>0.149378</td><td>185.518975</td></tr>\n",
       "<tr><td>...</td><td>...</td><td>...</td><td>...</td><td>...</td><td>...</td><td>...</td><td>...</td><td>...</td><td>...</td><td>...</td><td>...</td><td>...</td><td>...</td><td>...</td><td>...</td><td>...</td><td>...</td><td>...</td><td>...</td><td>...</td><td>...</td><td>...</td><td>...</td><td>...</td><td>...</td><td>...</td><td>...</td><td>...</td><td>...</td><td>...</td><td>...</td><td>...</td><td>...</td><td>...</td><td>...</td><td>...</td></tr>\n",
       "<tr><td>40.1253863</td><td>60.8792324</td><td>0.1362</td><td>0.12</td><td>-0.0418</td><td>13.803</td><td>0.049</td><td>22.3</td><td>0.7825</td><td>13.145</td><td>0.071</td><td>15.2</td><td>0.8457</td><td>1</td><td>0</td><td>0000</td><td>AA</td><td>5</td><td>57988.16676654</td><td>--</td><td>--</td><td>--</td><td>--</td><td>--</td><td>--</td><td>--</td><td>--</td><td>--</td><td>--</td><td>--</td><td>--</td><td>--</td><td>--</td><td>--</td><td>--</td><td>0.439544</td><td>230.53831</td></tr>\n",
       "<tr><td>40.1254017</td><td>60.8792188</td><td>0.1756</td><td>0.1349</td><td>-0.0354</td><td>13.417</td><td>0.08</td><td>13.5</td><td>1.913</td><td>12.771</td><td>0.072</td><td>15.2</td><td>0.4021</td><td>1</td><td>0</td><td>0000</td><td>AA</td><td>10</td><td>57790.47736456</td><td>--</td><td>--</td><td>--</td><td>--</td><td>--</td><td>--</td><td>--</td><td>--</td><td>--</td><td>--</td><td>--</td><td>--</td><td>--</td><td>--</td><td>--</td><td>--</td><td>0.453174</td><td>223.574167</td></tr>\n",
       "<tr><td>40.1254504</td><td>60.8791953</td><td>0.065</td><td>0.0627</td><td>-0.0236</td><td>12.829</td><td>0.031</td><td>35.0</td><td>2.803</td><td>11.903</td><td>0.037</td><td>29.2</td><td>1.251</td><td>1</td><td>0</td><td>0000</td><td>AA</td><td>5</td><td>57423.45964858</td><td>--</td><td>--</td><td>--</td><td>--</td><td>--</td><td>--</td><td>--</td><td>--</td><td>--</td><td>--</td><td>--</td><td>--</td><td>--</td><td>--</td><td>--</td><td>--</td><td>0.471232</td><td>208.805123</td></tr>\n",
       "<tr><td>40.1254195</td><td>60.879191</td><td>0.0736</td><td>0.0604</td><td>-0.0255</td><td>12.777</td><td>0.027</td><td>39.9</td><td>0.8821</td><td>11.964</td><td>0.033</td><td>33.1</td><td>0.8097</td><td>1</td><td>0</td><td>0000</td><td>AA</td><td>10</td><td>57063.99542123</td><td>--</td><td>--</td><td>--</td><td>--</td><td>--</td><td>--</td><td>--</td><td>--</td><td>--</td><td>--</td><td>--</td><td>--</td><td>--</td><td>--</td><td>--</td><td>--</td><td>0.512441</td><td>213.279623</td></tr>\n",
       "<tr><td>40.1253594</td><td>60.8792163</td><td>0.0631</td><td>0.0675</td><td>-0.0093</td><td>12.791</td><td>0.03</td><td>36.6</td><td>1.13</td><td>11.972</td><td>0.039</td><td>27.5</td><td>0.6409</td><td>1</td><td>0</td><td>0000</td><td>AA</td><td>10</td><td>57422.73853115</td><td>--</td><td>--</td><td>--</td><td>--</td><td>--</td><td>--</td><td>--</td><td>--</td><td>--</td><td>--</td><td>--</td><td>--</td><td>--</td><td>--</td><td>--</td><td>--</td><td>0.512985</td><td>228.885562</td></tr>\n",
       "<tr><td>40.1252771</td><td>60.8793411</td><td>0.115</td><td>0.1078</td><td>-0.0397</td><td>13.511</td><td>0.041</td><td>26.2</td><td>1.299</td><td>12.668</td><td>0.061</td><td>17.8</td><td>0.6642</td><td>1</td><td>0</td><td>0000</td><td>AA</td><td>5</td><td>57790.01894558</td><td>--</td><td>--</td><td>--</td><td>--</td><td>--</td><td>--</td><td>--</td><td>--</td><td>--</td><td>--</td><td>--</td><td>--</td><td>--</td><td>--</td><td>--</td><td>--</td><td>0.542346</td><td>281.913746</td></tr>\n",
       "<tr><td>40.1253172</td><td>60.8792186</td><td>0.1035</td><td>0.1091</td><td>-0.0272</td><td>13.328</td><td>0.038</td><td>28.6</td><td>1.868</td><td>12.893</td><td>0.091</td><td>11.9</td><td>1.075</td><td>1</td><td>0</td><td>0000</td><td>AA</td><td>5</td><td>57790.21542903</td><td>--</td><td>--</td><td>--</td><td>--</td><td>--</td><td>--</td><td>--</td><td>--</td><td>--</td><td>--</td><td>--</td><td>--</td><td>--</td><td>--</td><td>--</td><td>--</td><td>0.565899</td><td>234.448038</td></tr>\n",
       "<tr><td>40.1256247</td><td>60.8791518</td><td>0.1463</td><td>0.1293</td><td>-0.0575</td><td>13.734</td><td>0.048</td><td>22.9</td><td>0.9954</td><td>13.257</td><td>0.122</td><td>8.9</td><td>0.5377</td><td>1</td><td>0</td><td>0000</td><td>AB</td><td>5</td><td>57988.36312131</td><td>--</td><td>--</td><td>--</td><td>--</td><td>--</td><td>--</td><td>--</td><td>--</td><td>--</td><td>--</td><td>--</td><td>--</td><td>--</td><td>--</td><td>--</td><td>--</td><td>0.574875</td><td>172.170603</td></tr>\n",
       "<tr><td>40.1252789</td><td>60.8792352</td><td>0.1174</td><td>0.1057</td><td>-0.0497</td><td>13.36</td><td>0.049</td><td>22.3</td><td>0.7856</td><td>12.729</td><td>0.06</td><td>18.1</td><td>0.7291</td><td>1</td><td>0</td><td>0000</td><td>AA</td><td>5</td><td>57787.33375567</td><td>--</td><td>--</td><td>--</td><td>--</td><td>--</td><td>--</td><td>--</td><td>--</td><td>--</td><td>--</td><td>--</td><td>--</td><td>--</td><td>--</td><td>--</td><td>--</td><td>0.59227</td><td>242.957045</td></tr>\n",
       "<tr><td>40.1260438</td><td>60.8791845</td><td>0.1911</td><td>0.1661</td><td>-0.0549</td><td>14.036</td><td>0.07</td><td>15.4</td><td>4.369</td><td>13.472</td><td>0.094</td><td>11.6</td><td>1.701</td><td>1</td><td>0</td><td>0000</td><td>AA</td><td>0</td><td>57988.49402461</td><td>--</td><td>--</td><td>--</td><td>--</td><td>--</td><td>--</td><td>--</td><td>--</td><td>--</td><td>--</td><td>--</td><td>--</td><td>--</td><td>--</td><td>--</td><td>--</td><td>0.929713</td><td>119.074968</td></tr>\n",
       "</table>"
      ],
      "text/plain": [
       "<Table masked=True length=137>\n",
       "    ra        dec      sigra   sigdec ... k_msig_2mass   dist     angle   \n",
       "   deg        deg      arcsec  arcsec ...     mag       arcsec     deg    \n",
       " float64    float64   float64 float64 ...   float64    float64   float64  \n",
       "---------- ---------- ------- ------- ... ------------ -------- ----------\n",
       "40.1255655 60.8793063  0.0947  0.0936 ...           -- 0.028668 242.330013\n",
       " 40.125574  60.879297  0.0925  0.0874 ...           -- 0.048011 192.659014\n",
       "40.1256226 60.8793176  0.0808  0.0794 ...           -- 0.079498  69.867298\n",
       "40.1255528 60.8792864  0.0663  0.0608 ...           -- 0.097389 209.287467\n",
       "40.1255725 60.8792803  0.0645  0.0599 ...           -- 0.107707  187.00605\n",
       "40.1255736 60.8792799  0.1164  0.1059 ...           -- 0.108928 185.907602\n",
       "40.1255644 60.8792744  0.0856   0.086 ...           -- 0.131052 192.038104\n",
       "40.1255517 60.8792713  0.0679  0.0685 ...           -- 0.147884 199.589209\n",
       "40.1255718 60.8792687  0.1224  0.1104 ...           -- 0.149378 185.518975\n",
       "       ...        ...     ...     ... ...          ...      ...        ...\n",
       "40.1253863 60.8792324  0.1362    0.12 ...           -- 0.439544  230.53831\n",
       "40.1254017 60.8792188  0.1756  0.1349 ...           -- 0.453174 223.574167\n",
       "40.1254504 60.8791953   0.065  0.0627 ...           -- 0.471232 208.805123\n",
       "40.1254195  60.879191  0.0736  0.0604 ...           -- 0.512441 213.279623\n",
       "40.1253594 60.8792163  0.0631  0.0675 ...           -- 0.512985 228.885562\n",
       "40.1252771 60.8793411   0.115  0.1078 ...           -- 0.542346 281.913746\n",
       "40.1253172 60.8792186  0.1035  0.1091 ...           -- 0.565899 234.448038\n",
       "40.1256247 60.8791518  0.1463  0.1293 ...           -- 0.574875 172.170603\n",
       "40.1252789 60.8792352  0.1174  0.1057 ...           --  0.59227 242.957045\n",
       "40.1260438 60.8791845  0.1911  0.1661 ...           -- 0.929713 119.074968"
      ]
     },
     "execution_count": 32,
     "metadata": {},
     "output_type": "execute_result"
    }
   ],
   "source": [
    "from astropy.table import Table\n",
    "\n",
    "Table.read('irsa_catalog_WISE_iPTF14jg_search_results.tbl', format = 'ascii')"
   ]
  },
  {
   "cell_type": "markdown",
   "metadata": {
    "slideshow": {
     "slide_type": "subslide"
    }
   },
   "source": [
    "A benefit to using this method, as opposed to `pandas`, is that data typing and data units are naturally read from the IRSA table and included with the associated columns. Thus, if you are uncertain if some brightness measurement is in magnitudes or Janskys, the `astropy Table` can report on that information.\n",
    "\n",
    "Unfortunately, `astropy` does *not* know about every strange formating decision that every astronomer has made at some point in their lives (as we are about to see...) "
   ]
  },
  {
   "cell_type": "markdown",
   "metadata": {
    "slideshow": {
     "slide_type": "slide"
    }
   },
   "source": [
    "## Problem 2) The Sins of Our Journals"
   ]
  },
  {
   "cell_type": "markdown",
   "metadata": {
    "slideshow": {
     "slide_type": "slide"
    }
   },
   "source": [
    "Unlike IRSA/IPAC, which uses a weird but nevertheless consistent format for data tables, data retrieved from Journal articles essentially follows no rules. In principle, tables in Journal articles are supposed to be provided in a machine readable format. In practice, as we are about to see, this is far from the case.\n",
    "\n",
    "For this particular wrangling case study we will focus on supernova light curves, a simple thing to report: time, filter, brightness, uncertainty on that brightness, that the community has nevertheless managed to mangle into some truly wild and difficult to parse forms."
   ]
  },
  {
   "cell_type": "markdown",
   "metadata": {
    "slideshow": {
     "slide_type": "skip"
    }
   },
   "source": [
    "(Sorry for the heavy emphasis on time-domain examples - I'm pulling straight from my own life today, but the issues described here are not perfectly addressed by any subfield within the astro umbrella)"
   ]
  },
  {
   "cell_type": "markdown",
   "metadata": {
    "slideshow": {
     "slide_type": "slide"
    }
   },
   "source": [
    "Here is the LaTeX-formatted version of Table 4 from [Miller et al. 2011](https://iopscience.iop.org/article/10.1088/0004-637X/730/2/80/meta):\n",
    "\n",
    "<img style=\"display: block; margin-left: auto; margin-right: auto\" src=\"images/Miller11_tbl4.png\" align=\\\"middle\">"
   ]
  },
  {
   "cell_type": "markdown",
   "metadata": {
    "slideshow": {
     "slide_type": "subslide"
    }
   },
   "source": [
    "That is a very simple table to interpret, no?\n",
    "\n",
    "Have a look at the [\"machine-readible\" file](https://northwestern.box.com/s/o9nxkr3o79xunfo2o7r8nnas2sskncrc) that ApJ provides for readers that might want to evaluate these photometric measurements."
   ]
  },
  {
   "cell_type": "markdown",
   "metadata": {
    "slideshow": {
     "slide_type": "slide"
    }
   },
   "source": [
    "**Problem 2a** \n",
    "\n",
    "Download the ApJ version of [Table 4](https://northwestern.box.com/s/o9nxkr3o79xunfo2o7r8nnas2sskncrc) from Miller et al. 2011 and read that table into either a `pandas DataFrame` or an `astropy Table`."
   ]
  },
  {
   "cell_type": "code",
   "execution_count": 40,
   "metadata": {
    "slideshow": {
     "slide_type": "subslide"
    }
   },
   "outputs": [
    {
     "data": {
      "text/html": [
       "<div>\n",
       "<style scoped>\n",
       "    .dataframe tbody tr th:only-of-type {\n",
       "        vertical-align: middle;\n",
       "    }\n",
       "\n",
       "    .dataframe tbody tr th {\n",
       "        vertical-align: top;\n",
       "    }\n",
       "\n",
       "    .dataframe thead th {\n",
       "        text-align: right;\n",
       "    }\n",
       "</style>\n",
       "<table border=\"1\" class=\"dataframe\">\n",
       "  <thead>\n",
       "    <tr style=\"text-align: right;\">\n",
       "      <th></th>\n",
       "      <th>t_mid^a</th>\n",
       "      <th>J mag</th>\n",
       "      <th>H mag</th>\n",
       "      <th>K_s mag</th>\n",
       "      <th>Unnamed: 4</th>\n",
       "    </tr>\n",
       "  </thead>\n",
       "  <tbody>\n",
       "    <tr>\n",
       "      <th>0</th>\n",
       "      <td>(MJD)</td>\n",
       "      <td>(Vega)</td>\n",
       "      <td>(Vega)</td>\n",
       "      <td>(Vega)</td>\n",
       "      <td>NaN</td>\n",
       "    </tr>\n",
       "    <tr>\n",
       "      <th>1</th>\n",
       "      <td>55466.137</td>\n",
       "      <td>10.04 +or- 0.03</td>\n",
       "      <td>9.14 +or- 0.03</td>\n",
       "      <td>8.65 +or- 0.03</td>\n",
       "      <td>NaN</td>\n",
       "    </tr>\n",
       "    <tr>\n",
       "      <th>2</th>\n",
       "      <td>55468.145</td>\n",
       "      <td>9.99 +or- 0.03</td>\n",
       "      <td>9.06 +or- 0.04</td>\n",
       "      <td>8.64 +or- 0.04</td>\n",
       "      <td>NaN</td>\n",
       "    </tr>\n",
       "    <tr>\n",
       "      <th>3</th>\n",
       "      <td>55469.148</td>\n",
       "      <td>10.04 +or- 0.03</td>\n",
       "      <td>9.07 +or- 0.03</td>\n",
       "      <td>8.70 +or- 0.03</td>\n",
       "      <td>NaN</td>\n",
       "    </tr>\n",
       "    <tr>\n",
       "      <th>4</th>\n",
       "      <td>55479.109</td>\n",
       "      <td>10.11 +or- 0.03</td>\n",
       "      <td>9.11 +or- 0.03</td>\n",
       "      <td>8.63 +or- 0.04</td>\n",
       "      <td>NaN</td>\n",
       "    </tr>\n",
       "    <tr>\n",
       "      <th>5</th>\n",
       "      <td>55504.164</td>\n",
       "      <td>10.20 +or- 0.03</td>\n",
       "      <td>9.24 +or- 0.03</td>\n",
       "      <td>8.74 +or- 0.03</td>\n",
       "      <td>NaN</td>\n",
       "    </tr>\n",
       "    <tr>\n",
       "      <th>6</th>\n",
       "      <td>55513.195</td>\n",
       "      <td>10.29 +or- 0.03</td>\n",
       "      <td>9.34 +or- 0.03</td>\n",
       "      <td>8.79 +or- 0.03</td>\n",
       "      <td>NaN</td>\n",
       "    </tr>\n",
       "    <tr>\n",
       "      <th>7</th>\n",
       "      <td>55518.168</td>\n",
       "      <td>10.32 +or- 0.03</td>\n",
       "      <td>9.34 +or- 0.04</td>\n",
       "      <td>8.84 +or- 0.03</td>\n",
       "      <td>NaN</td>\n",
       "    </tr>\n",
       "    <tr>\n",
       "      <th>8</th>\n",
       "      <td>55527.117</td>\n",
       "      <td>10.35 +or- 0.03</td>\n",
       "      <td>9.40 +or- 0.03</td>\n",
       "      <td>8.89 +or- 0.03</td>\n",
       "      <td>NaN</td>\n",
       "    </tr>\n",
       "    <tr>\n",
       "      <th>9</th>\n",
       "      <td>55531.145</td>\n",
       "      <td>10.40 +or- 0.03</td>\n",
       "      <td>9.44 +or- 0.03</td>\n",
       "      <td>8.97 +or- 0.03</td>\n",
       "      <td>NaN</td>\n",
       "    </tr>\n",
       "    <tr>\n",
       "      <th>10</th>\n",
       "      <td>55543.066</td>\n",
       "      <td>10.45 +or- 0.03</td>\n",
       "      <td>9.48 +or- 0.04</td>\n",
       "      <td>9.06 +or- 0.04</td>\n",
       "      <td>NaN</td>\n",
       "    </tr>\n",
       "    <tr>\n",
       "      <th>11</th>\n",
       "      <td>Note.</td>\n",
       "      <td>NaN</td>\n",
       "      <td>NaN</td>\n",
       "      <td>NaN</td>\n",
       "      <td>NaN</td>\n",
       "    </tr>\n",
       "    <tr>\n",
       "      <th>12</th>\n",
       "      <td>a Midpoint between the first and last exposure...</td>\n",
       "      <td>NaN</td>\n",
       "      <td>NaN</td>\n",
       "      <td>NaN</td>\n",
       "      <td>NaN</td>\n",
       "    </tr>\n",
       "  </tbody>\n",
       "</table>\n",
       "</div>"
      ],
      "text/plain": [
       "                                              t_mid^a            J mag  \\\n",
       "0                                               (MJD)           (Vega)   \n",
       "1                                           55466.137  10.04 +or- 0.03   \n",
       "2                                           55468.145   9.99 +or- 0.03   \n",
       "3                                           55469.148  10.04 +or- 0.03   \n",
       "4                                           55479.109  10.11 +or- 0.03   \n",
       "5                                           55504.164  10.20 +or- 0.03   \n",
       "6                                           55513.195  10.29 +or- 0.03   \n",
       "7                                           55518.168  10.32 +or- 0.03   \n",
       "8                                           55527.117  10.35 +or- 0.03   \n",
       "9                                           55531.145  10.40 +or- 0.03   \n",
       "10                                          55543.066  10.45 +or- 0.03   \n",
       "11                                              Note.              NaN   \n",
       "12  a Midpoint between the first and last exposure...              NaN   \n",
       "\n",
       "             H mag         K_s mag  Unnamed: 4  \n",
       "0           (Vega)          (Vega)         NaN  \n",
       "1   9.14 +or- 0.03  8.65 +or- 0.03         NaN  \n",
       "2   9.06 +or- 0.04  8.64 +or- 0.04         NaN  \n",
       "3   9.07 +or- 0.03  8.70 +or- 0.03         NaN  \n",
       "4   9.11 +or- 0.03  8.63 +or- 0.04         NaN  \n",
       "5   9.24 +or- 0.03  8.74 +or- 0.03         NaN  \n",
       "6   9.34 +or- 0.03  8.79 +or- 0.03         NaN  \n",
       "7   9.34 +or- 0.04  8.84 +or- 0.03         NaN  \n",
       "8   9.40 +or- 0.03  8.89 +or- 0.03         NaN  \n",
       "9   9.44 +or- 0.03  8.97 +or- 0.03         NaN  \n",
       "10  9.48 +or- 0.04  9.06 +or- 0.04         NaN  \n",
       "11             NaN             NaN         NaN  \n",
       "12             NaN             NaN         NaN  "
      ]
     },
     "execution_count": 40,
     "metadata": {},
     "output_type": "execute_result"
    }
   ],
   "source": [
    "pd.read_csv('Miller_et_al2011_table4.txt', skiprows=3, sep = \"\\t\")\n"
   ]
  },
  {
   "cell_type": "markdown",
   "metadata": {
    "slideshow": {
     "slide_type": "slide"
    }
   },
   "source": [
    "That wasn't too terrible. But what if we consider a more typical light curve table, where there are loads of missing data, such as Table 2 from [Foley et al. 2009]():\n",
    "\n",
    "<img style=\"display: block; margin-left: auto; margin-right: auto\" src=\"images/Foley09_tbl2.png\" align=\\\"middle\">"
   ]
  },
  {
   "cell_type": "markdown",
   "metadata": {
    "slideshow": {
     "slide_type": "subslide"
    }
   },
   "source": [
    "Again, this table is straightforward to read, and it isn't hard to imagine how one could construct a machine-readable csv or other file from this information. But alas, this is not what is available from ApJ. So, we will need to figure out how to deal with both the missing data, \"...\", and the weird convention that many astronomers use where the uncertainties are (a) not reported in their own column, and (b) are not provided in the same units as the measurement itself. I can understand the former, but the later is somewhat baffling..."
   ]
  },
  {
   "cell_type": "markdown",
   "metadata": {
    "slideshow": {
     "slide_type": "slide"
    }
   },
   "source": [
    "**Problem 2b** \n",
    "\n",
    "Download the ApJ version of [Table 2](https://northwestern.box.com/s/imo8sc0rudfwaa4iaa9qr2rvcwtgvieb) from Foley et al. 2009 and read that table into either a `pandas DataFrame` or an `astropy Table`."
   ]
  },
  {
   "cell_type": "code",
   "execution_count": null,
   "metadata": {
    "slideshow": {
     "slide_type": "subslide"
    }
   },
   "outputs": [],
   "source": [
    "# read in the data from Foley et al 2009"
   ]
  },
  {
   "cell_type": "markdown",
   "metadata": {
    "slideshow": {
     "slide_type": "subslide"
    }
   },
   "source": [
    "Okay - there is nothing elegant about that particular solution. But it works, and wranglin' ain't pretty. \n",
    "\n",
    "It is likely that you developed a solution that looks very different from this one, and that is fine. When data are provided in an unrulely format, the most important thing is to develop some method, any method, for converting the information into a useful format. Following whatever path you used above, it should now be easy to plot the light curve of SN 2008ha."
   ]
  },
  {
   "cell_type": "markdown",
   "metadata": {
    "slideshow": {
     "slide_type": "slide"
    }
   },
   "source": [
    "## Problem 3) My Heart Will Go On\n",
    "\n",
    "Sometimes there is no difficultly whatsoever in reading in the data (as was the case in **Problems 1** and **2**), but instead the difficultly lies in wranglin' the data to be appropriate for the model that you are building.\n",
    "\n",
    "For the next problem we will work with the famous [Titanic survival](https://www.kaggle.com/c/titanic/data?) data set. If you haven't already, please [download the csv file](https://northwestern.box.com/s/hx6airvgb4mukxvztvhlzvedkq8480ug) with the relevant information."
   ]
  },
  {
   "cell_type": "markdown",
   "metadata": {
    "slideshow": {
     "slide_type": "subslide"
    }
   },
   "source": [
    "Briefly, [the Titantic](https://thefilmcricket.files.wordpress.com/2012/04/film-titanic_clar.jpg) is a [famous](https://wallpapercave.com/wp/jrF8rQK.jpg) historical ship that was thought to be unsinkable. **Spoiler alert** it hit an iceberg and sank. The data in the Titanic data set includes information about 891 passengers from the Titanic, as well as whether or not they survived. The aim of this data set is to build a machine learning model to predict which passengers survived and which did not."
   ]
  },
  {
   "cell_type": "markdown",
   "metadata": {
    "slideshow": {
     "slide_type": "subslide"
    }
   },
   "source": [
    "The features include: \n",
    "\n",
    "|Feature    | Description |\n",
    "|:---------:|:--------------------------------------:|\n",
    "|PassengerId| Running index that describes the individual passengers|\n",
    "|Pclass| A proxy for socio-economic status (1 = Upper class, 2 = Middle Class, 3 = Lower Class)|\n",
    "|Name| The passenger's name|\n",
    "|Sex | The passenger's sex|\n",
    "|Age | The passenger's age - note age's ending in 0.5 are estimated |\n",
    "|SibSp| The sum of the passenger's sibblings and spouces on board|\n",
    "|Parch| The sum of the passenger's parents and children on board|\n",
    "|Ticket| The ticket number for the passenger|\n",
    "|Fare| The price paid for the ticket by th passenger|\n",
    "|Cabin| The Cabin in which the passenger stayed|\n",
    "|Embarked| The point of Origin for the Passenger: C = Cherbourg, S = Southampton, Q = Queenstown|"
   ]
  },
  {
   "cell_type": "markdown",
   "metadata": {
    "slideshow": {
     "slide_type": "subslide"
    }
   },
   "source": [
    "And of course, we are trying to predict:\n",
    "\n",
    "|Label    | Description |\n",
    "|:---------:|:--------------------------------------:|\n",
    "|Survived| 1 = yes; 0 = no|\n"
   ]
  },
  {
   "cell_type": "markdown",
   "metadata": {
    "slideshow": {
     "slide_type": "slide"
    }
   },
   "source": [
    "**Problem 3a**\n",
    "\n",
    "Read in the Titanic training data and create the `scikit-learn` standard `X` and `y` arrays to hold the features and the labels, respectively."
   ]
  },
  {
   "cell_type": "code",
   "execution_count": 43,
   "metadata": {
    "slideshow": {
     "slide_type": "slide"
    }
   },
   "outputs": [],
   "source": [
    "titanic_df = pd.read_csv('titanic_kaggle_training_set.csv')\n",
    "feat_list = list(titanic_df.columns)\n",
    "label = 'Survived'\n",
    "feat_list.remove(label)\n",
    "X = titanic_df[feat_list]\n",
    "Y = titanic_df[label]"
   ]
  },
  {
   "cell_type": "markdown",
   "metadata": {
    "slideshow": {
     "slide_type": "slide"
    }
   },
   "source": [
    "Now that we have the data in the appropriate `X` and `y` arrays, estimate the accuracy with which a [K nearest neighbors](https://scikit-learn.org/stable/modules/generated/sklearn.neighbors.KNeighborsClassifier.html) classification model can predict whether or not a passenger would survive the Titanic disaster. Use $k=10$ fold cross validation for the prediction."
   ]
  },
  {
   "cell_type": "markdown",
   "metadata": {
    "slideshow": {
     "slide_type": "subslide"
    }
   },
   "source": [
    "**Problem 3b**\n",
    "\n",
    "Train a $k=7$ nearest neighbors machine learning model on the Titanic training set."
   ]
  },
  {
   "cell_type": "code",
   "execution_count": null,
   "metadata": {
    "slideshow": {
     "slide_type": "subslide"
    }
   },
   "outputs": [],
   "source": [
    "from sklearn.neighbors import KNeighborsClassifier\n",
    "knn_clf = KNeighborsClassifier( # complete\n",
    "knn_clf.fit( # complete"
   ]
  },
  {
   "cell_type": "markdown",
   "metadata": {
    "slideshow": {
     "slide_type": "slide"
    }
   },
   "source": [
    "Note - that should have failed! And for good reason - recall that `kNN` models measure the Euclidean distance between all points within the feature space. So, when considering the sex of a passenger, what is the *numerical* distance between male and female? "
   ]
  },
  {
   "cell_type": "markdown",
   "metadata": {
    "slideshow": {
     "slide_type": "subslide"
    }
   },
   "source": [
    "In other words, we need to wrangle this data before we can run the machine learning model. \n",
    "\n",
    "Most of the features in this problem are non-numeric (i.e. we are dealing with categorical features), and therefore we need to figure out how to include them in the `kNN` model. "
   ]
  },
  {
   "cell_type": "markdown",
   "metadata": {
    "slideshow": {
     "slide_type": "subslide"
    }
   },
   "source": [
    "The first step when wrangling for machine learning is to figure out if anything can be thrown away. We certainly want to avoid including any uninformative features in the model. \n",
    "\n",
    "*If you haven't already, now would be a good time to create a new cell and examine the contents of the csv*"
   ]
  },
  {
   "cell_type": "code",
   "execution_count": null,
   "metadata": {
    "slideshow": {
     "slide_type": "skip"
    }
   },
   "outputs": [],
   "source": [
    "titanic_df"
   ]
  },
  {
   "cell_type": "markdown",
   "metadata": {
    "slideshow": {
     "slide_type": "subslide"
    }
   },
   "source": [
    "**Problem 3c** \n",
    "\n",
    "Are there any features that *obviously* will not help with this classification problem?\n",
    "\n",
    "*If you answer yes - ignore those features moving forward*"
   ]
  },
  {
   "cell_type": "markdown",
   "metadata": {
    "slideshow": {
     "slide_type": "subslide"
    }
   },
   "source": [
    "**Solution 3c**\n",
    "\n",
    "*write your solution here*"
   ]
  },
  {
   "cell_type": "markdown",
   "metadata": {
    "slideshow": {
     "slide_type": "slide"
    }
   },
   "source": [
    "Given that we have both categorical and numeric features, let's start with the numerical features and see how well they can predict survival on the Titanic.\n",
    "\n",
    "One note - for now we are going to exclude `Age`, because as you saw when you examined the data, there are some passengers that do not have any age information. This problem, known as \"missing data\" is one that we will deal with before the end of this problem."
   ]
  },
  {
   "cell_type": "markdown",
   "metadata": {
    "slideshow": {
     "slide_type": "subslide"
    }
   },
   "source": [
    "**Problem 3d**\n",
    "\n",
    "How accurately can the numeric features, `Pclass`, `SibSp`, `Parch`, and `Fare` predict survival on the Titanic? Use a $k = 7$ Nearest Neighbors model, and estimate the model accuracy using 10-fold cross validation. \n",
    "\n",
    "*Hint 1 - you'll want to redefine your features vector `X`*\n",
    "\n",
    "*Hint 2 - you may find [`cross_val_score`](https://scikit-learn.org/stable/modules/generated/sklearn.model_selection.cross_val_score.html) from `scikit-learn` helpful*"
   ]
  },
  {
   "cell_type": "code",
   "execution_count": null,
   "metadata": {
    "slideshow": {
     "slide_type": "subslide"
    }
   },
   "outputs": [],
   "source": [
    "from sklearn.model_selection import cross_val_score\n",
    "\n",
    "X = # complete\n",
    "\n",
    "knn_clf = # complete\n",
    "\n",
    "cv_results = cross_val_score( # complete\n",
    "\n",
    "print('The accuracy from numeric features = {:.2f}%'.format(100*np.mean(cv_results)))"
   ]
  },
  {
   "cell_type": "markdown",
   "metadata": {
    "slideshow": {
     "slide_type": "slide"
    }
   },
   "source": [
    "An accuracy of 68% isn't particularly inspiring. But, there's a lot of important information that we are excluding. As far as the Titanic is concerned, Kate and Leo taught us that [female passengers are far more likely to survive](https://qph.fs.quoracdn.net/main-qimg-93eb36091c7eec872b891fa51dc5722b), while [male passengers are not](http://hoycinema.abc.es/Media/201602/03/titanic-kate-dicaprio--644x362.jpg). So, if we can include gender in the model then we may be able to achieve more accurate predictions. "
   ]
  },
  {
   "cell_type": "markdown",
   "metadata": {
    "slideshow": {
     "slide_type": "subslide"
    }
   },
   "source": [
    "**Problem 3e**\n",
    "\n",
    "Create a new feature called `gender` that equals 1 for male passengers and 2 for female passengers. Add this feature to your dataframe, and include it in a `kNN` model with the other numeric features. Does the inclusion of this feature improve the 10-fold CV accuracy?"
   ]
  },
  {
   "cell_type": "code",
   "execution_count": null,
   "metadata": {
    "slideshow": {
     "slide_type": "subslide"
    }
   },
   "outputs": [],
   "source": [
    "gender = # complete\n",
    "# complete\n",
    "\n",
    "titanic_df['gender'] = gender\n",
    "\n",
    "X = # complete\n",
    "\n",
    "cv_results = cross_val_score( # complete\n",
    "\n",
    "print('The accuracy when including gender = {:.2f}%'.format(100*np.mean(cv_results)))"
   ]
  },
  {
   "cell_type": "markdown",
   "metadata": {
    "slideshow": {
     "slide_type": "slide"
    }
   },
   "source": [
    "A 14% improvement is pretty good! But, we can wrangle even more out of the gender feature. Recall that `kNN` models measure the Euclidean distance between sources, meaning the scale of each feature really matters. Given that the fare ranges from 0 up to 512.3292, the `kNN` model will see this feature as far more important than `gender`, for no other reason than the units that have been adopted. \n",
    "\n",
    "If women are far more likely to survive than men, then we want to be sure that gender is weighted at least the same as all the other features, which we can do with a minmax scaler. As a brief reminder - a minmax scaler scales all values of a feature to be between 0 and 1 by subtracting the minimum value of each feature and then dividing by the maximum minus the minimum. "
   ]
  },
  {
   "cell_type": "markdown",
   "metadata": {
    "slideshow": {
     "slide_type": "subslide"
    }
   },
   "source": [
    "**Problem 3f**\n",
    "\n",
    "Scale all the features from the previous problem using a minmax scaler and evaluate the CV accuracy of the `kNN` model.\n",
    "\n",
    "*Hint - you may find [`MinMaxScaler`](https://scikit-learn.org/stable/modules/generated/sklearn.preprocessing.MinMaxScaler.html) helpful*"
   ]
  },
  {
   "cell_type": "code",
   "execution_count": null,
   "metadata": {
    "slideshow": {
     "slide_type": "subslide"
    }
   },
   "outputs": [],
   "source": [
    "from sklearn.preprocessing import MinMaxScaler\n",
    "\n",
    "scaler = MinMaxScaler()\n",
    "scaler.fit(X)\n",
    "Xminmax = scaler.transform(X)\n",
    "\n",
    "knn_clf = # complete\n",
    "\n",
    "cv_results = cross_val_score( # complete\n",
    "\n",
    "print('The accuracy when scaling features = {:.2f}%'.format(100*np.mean(cv_results)))"
   ]
  },
  {
   "cell_type": "markdown",
   "metadata": {
    "slideshow": {
     "slide_type": "slide"
    }
   },
   "source": [
    "Scaling the features leads to further improvement!\n",
    "\n",
    "Now turn your attention to another categorical feature, `Embarked`, which includes the point of origin for each passenger and has three categories, `S`, `Q`, and `C`. We need to convert these values to a numeric representation for inclusion in the model."
   ]
  },
  {
   "cell_type": "markdown",
   "metadata": {
    "slideshow": {
     "slide_type": "subslide"
    }
   },
   "source": [
    "**Problem 3g**\n",
    "\n",
    "Convert the categorical feature `Embarked` to a numeric representation, and add it to the `titanic_df`."
   ]
  },
  {
   "cell_type": "code",
   "execution_count": null,
   "metadata": {
    "slideshow": {
     "slide_type": "subslide"
    }
   },
   "outputs": [],
   "source": [
    "# following previous example, set C = 0, S = 1, Q = 2\n",
    "\n",
    "porigin = # complete\n",
    "# complete\n",
    "# complete\n",
    "# complete\n",
    "\n",
    "titanic_df['porigin'] = porigin"
   ]
  },
  {
   "cell_type": "markdown",
   "metadata": {
    "slideshow": {
     "slide_type": "slide"
    }
   },
   "source": [
    "But wait! Does this actually make sense?\n",
    "\n",
    "Our \"numerification\" has now introduced order where there previously was none. We are effectively telling the model that Cherbourg and Queenstown are far apart (not in distance but in terms of the similarity of the passengers that boarded the ship in each location), while each are equally close to Southampton. Is there actually any evidence to support this conclusion? "
   ]
  },
  {
   "cell_type": "markdown",
   "metadata": {
    "slideshow": {
     "slide_type": "subslide"
    }
   },
   "source": [
    "By definition categorical features do not have order (e.g., cat, dog, horse, elephant), and therefore we should not impose any when converting these features to numeric values for inclusion in our model. Instead, we should be creating a new set of binary features for every category within the feature set. Thus, `Embarked` will now need to be represented by 3 different features, where the feature `Queenstown` equals one for passengers that boarded there and zero for everyone else. "
   ]
  },
  {
   "cell_type": "markdown",
   "metadata": {
    "slideshow": {
     "slide_type": "subslide"
    }
   },
   "source": [
    "**Problem 3h**\n",
    "\n",
    "Complete the function below that will automatically create binary arrays for a categorical feature."
   ]
  },
  {
   "cell_type": "code",
   "execution_count": null,
   "metadata": {
    "slideshow": {
     "slide_type": "subslide"
    }
   },
   "outputs": [],
   "source": [
    "def create_bin_cat_feats(feature_array):\n",
    "    categories = np.unique(feature_array)\n",
    "    feat_dict = {}\n",
    "    for cat in categories:\n",
    "        # complete\n",
    "        # complete\n",
    "        # complete\n",
    "    return feat_dict"
   ]
  },
  {
   "cell_type": "markdown",
   "metadata": {
    "slideshow": {
     "slide_type": "slide"
    }
   },
   "source": [
    "**Problem 3i**\n",
    "\n",
    "Use the `create_bin_cat_feats` function to convert the `Embarked` and `Sex`, yes we need to do this for `Sex` as well where we otherwise previously introduced order, categorical features to a numeric representation. Add these features to the `titanic_df` data frame."
   ]
  },
  {
   "cell_type": "code",
   "execution_count": null,
   "metadata": {
    "slideshow": {
     "slide_type": "subslide"
    }
   },
   "outputs": [],
   "source": [
    "gender_dict = create_bin_cat_feats( # complete\n",
    "porigin_dict = create_bin_cat_feats( # complete\n",
    "\n",
    "for feat in gender_dict.keys():\n",
    "    titanic_df[feat] = gender_dict[feat]\n",
    "    \n",
    "for feat in porigin_dict.keys():\n",
    "    titanic_df[feat] = porigin_dict[feat]"
   ]
  },
  {
   "cell_type": "markdown",
   "metadata": {
    "slideshow": {
     "slide_type": "slide"
    }
   },
   "source": [
    "**Problem 3j**\n",
    "\n",
    "Use the newly created `female`, `male`, `S`, `Q`, and `C` features in combination with the `Pclass`, `SibSp`, `Parch`, and `Fare` features to estimate the classification accuracy of a $k = 7$ nearest neighbors model with 10-fold cross validation.\n",
    "\n",
    "How does the addition of the point of origin feature affect the final model output?\n",
    "\n",
    "*Hint - don't forget to scale the features in the model*"
   ]
  },
  {
   "cell_type": "code",
   "execution_count": null,
   "metadata": {
    "slideshow": {
     "slide_type": "subslide"
    }
   },
   "outputs": [],
   "source": [
    "from sklearn.preprocessing import MinMaxScaler\n",
    "\n",
    "X = # complete\n",
    "\n",
    "scaler = MinMaxScaler()\n",
    "scaler.fit(X)\n",
    "Xminmax = scaler.transform(X)\n",
    "\n",
    "cv_results = cross_val_score( # complete\n",
    "\n",
    "print('The accuracy with categorical features = {:.2f}%'.format(100*np.mean(cv_results)))"
   ]
  },
  {
   "cell_type": "markdown",
   "metadata": {
    "slideshow": {
     "slide_type": "slide"
    }
   },
   "source": [
    "The last thing we'd like to add to the model is the `Age` feature. Unfortunately, for 177 passengers we do not have a reported value for their age. This is a standard issue when building models known as \"missing data\" and this happens in astronomy all the time (for example, LSST is going to observe millions of L and T dwarfs that are easily detected in the $y$-band, but which do not have a detection in $u$-band)."
   ]
  },
  {
   "cell_type": "markdown",
   "metadata": {
    "slideshow": {
     "slide_type": "subslide"
    }
   },
   "source": [
    "There are several different strategies for dealing with missing data. The first and most straightforward is to simply remove observations with missing data (note - to simplify this example I already did this by removing the 2 passengers from the training set that did not have an entry for `Embarked`). \n",
    "\n",
    "This strategy is perfectly fine if only a few sources have missing information (2/891 for `Embarked` - and none of the test set sources are missing `Embarked`). If, however, a significant fraction are missing data, this strategy would remove a lot of useful data from the model."
   ]
  },
  {
   "cell_type": "markdown",
   "metadata": {
    "slideshow": {
     "slide_type": "subslide"
    }
   },
   "source": [
    "If you cannot remove the sources with missing data, then it is essential to ask the following question: \n",
    "\n",
    "Does the missing information have meaning? \n",
    "\n",
    "In the LSST L/T dwarf example, the lack of a $u$-band detection is meaningful: these stars are too faint for LSST. When this is the case, an indicator value (e.g., -999) allows the model to recognize the non-detection. "
   ]
  },
  {
   "cell_type": "markdown",
   "metadata": {
    "slideshow": {
     "slide_type": "subslide"
    }
   },
   "source": [
    "For the Titanic data, the lack of age information is not meaningful. Simply put, there are some passengers that did not have recorded ages. We will now show this to be the case. "
   ]
  },
  {
   "cell_type": "markdown",
   "metadata": {
    "slideshow": {
     "slide_type": "subslide"
    }
   },
   "source": [
    "**Problem 3k**\n",
    "\n",
    "Replace the unknown ages with a value of -999, and estimate the accuracy of the model via 10-fold cross validation."
   ]
  },
  {
   "cell_type": "code",
   "execution_count": null,
   "metadata": {
    "slideshow": {
     "slide_type": "subslide"
    }
   },
   "outputs": [],
   "source": [
    "age_impute = # complete\n",
    "# complete\n",
    "\n",
    "titanic_df['age_impute'] = age_impute\n",
    "\n",
    "X = # complete\n",
    "\n",
    "scaler = MinMaxScaler()\n",
    "scaler.fit(X)\n",
    "Xminmax = scaler.transform(X)\n",
    "\n",
    "cv_results = cross_val_score( # complete\n",
    "\n",
    "print('The accuracy with -999 for missing ages = {:.2f}%'.format(100*np.mean(cv_results)))"
   ]
  },
  {
   "cell_type": "markdown",
   "metadata": {
    "slideshow": {
     "slide_type": "slide"
    }
   },
   "source": [
    "The accuracy of the model hasn't improved by adding the age information (even though we know children were more likely to survive than adults). \n",
    "\n",
    "Given that the missing ages don't have meaning, we need to develop alternative strategies for \"imputing\" the missing data. The most simple approach in this regard is to replace the missing values with the mean value of the feature distribution for sources that do have measurements (use the median if the distribution has significant outliers).  "
   ]
  },
  {
   "cell_type": "markdown",
   "metadata": {
    "slideshow": {
     "slide_type": "subslide"
    }
   },
   "source": [
    "**Problem 3l**\n",
    "\n",
    "Replace the unknown ages with the mean age of passengers, and estiamte the accuracy of the model via 10-fold cross validation."
   ]
  },
  {
   "cell_type": "code",
   "execution_count": null,
   "metadata": {
    "slideshow": {
     "slide_type": "subslide"
    }
   },
   "outputs": [],
   "source": [
    "age_impute = # complete\n",
    "# complete\n",
    "\n",
    "titanic_df['age_impute'] = age_impute\n",
    "\n",
    "X = # complete\n",
    "\n",
    "scaler = MinMaxScaler()\n",
    "scaler.fit(X)\n",
    "Xminmax = scaler.transform(X)\n",
    "\n",
    "cv_results = cross_val_score( # complete\n",
    "\n",
    "print('The accuracy with the mean for missing ages = {:.2f}%'.format(100*np.mean(cv_results)))"
   ]
  },
  {
   "cell_type": "markdown",
   "metadata": {
    "slideshow": {
     "slide_type": "slide"
    }
   },
   "source": [
    "Using the mean age for missing values provides a marginal improvement over the models with no age information. Is there anything else we can do? Yes - we can build a machine learning model to predict the values of the missing data. So there will be a machine learning model within the final machine learning model. In order to predict ages, we will need to build a regression model. Simple algorithms include Linear or Logistic Regression, while more complex examples include `kNN` or random forest regression.\n",
    "\n",
    "I quickly tested the above four methods, and found that the `scikit-learn` [`LinearRegression`](https://scikit-learn.org/stable/modules/generated/sklearn.linear_model.LinearRegression.html#sklearn.linear_model.LinearRegression) performs best when using the model defaults."
   ]
  },
  {
   "cell_type": "markdown",
   "metadata": {
    "slideshow": {
     "slide_type": "subslide"
    }
   },
   "source": [
    "**Probem 3m**\n",
    "\n",
    "Build a `LinearRegression` model to predict a passenger's age based on the `Pclass`, `SibSp`, `Parch`, `Fare`, `female`, `male`, `S`, `Q`, `C` features. The model should be trained with passengers that have known ages. Use 10-fold cross validation to determine the performance of this model.\n",
    "\n",
    "*Hint - note that for regression models the typical metric of evaluation is the [mean squared error](https://en.wikipedia.org/wiki/Mean_squared_error), and that for consistency within the `scikit-learn` API, the [negative mean squared error is returned rather than the mean squared error](https://scikit-learn.org/stable/modules/model_evaluation.html#common-cases-predefined-values).*"
   ]
  },
  {
   "cell_type": "code",
   "execution_count": null,
   "metadata": {
    "slideshow": {
     "slide_type": "subslide"
    }
   },
   "outputs": [],
   "source": [
    "from sklearn.linear_model import LinearRegression\n",
    "\n",
    "has_ages = np.where(np.isfinite(titanic_df['Age']))[0]\n",
    "\n",
    "impute_X_train = # complete\n",
    "impute_y_train = # complete\n",
    "\n",
    "scaler = MinMaxScaler()\n",
    "scaler.fit(impute_X_train)\n",
    "Xminmax = scaler.transform(impute_X_train)\n",
    "\n",
    "lr_age = LinearRegression().fit( # complete\n",
    "\n",
    "cv_results = cross_val_score(LinearRegression(), Xminmax, impute_y_train, cv=10, scoring='neg_mean_squared_error')\n",
    "\n",
    "print('Missing ages have RMSE = {:.2f}'.format(np.mean((-1*cv_results)**0.5)))"
   ]
  },
  {
   "cell_type": "markdown",
   "metadata": {
    "slideshow": {
     "slide_type": "slide"
    }
   },
   "source": [
    "**Problem 3n**\n",
    "\n",
    "Use the age regression model to predict the ages for passengers with missing data."
   ]
  },
  {
   "cell_type": "code",
   "execution_count": null,
   "metadata": {
    "slideshow": {
     "slide_type": "subslide"
    }
   },
   "outputs": [],
   "source": [
    "missing_ages = np.where(np.isnan(titanic_df['Age']))[0]\n",
    "\n",
    "impute_X_missing = # complete\n",
    "\n",
    "X_missing_minmax = scaler.transform(impute_X_missing)\n",
    "\n",
    "age_preds = lr_age.predict(X_missing_minmax)"
   ]
  },
  {
   "cell_type": "markdown",
   "metadata": {
    "slideshow": {
     "slide_type": "slide"
    }
   },
   "source": [
    "**Problem 3o**\n",
    "\n",
    "Use the imputed age estimates to predict the passenger survival via 10-fold cross validation."
   ]
  },
  {
   "cell_type": "code",
   "execution_count": null,
   "metadata": {
    "slideshow": {
     "slide_type": "subslide"
    }
   },
   "outputs": [],
   "source": [
    "age_impute = titanic_df['Age'].copy().values\n",
    "age_impute[missing_ages] = # complete\n",
    "\n",
    "titanic_df['age_impute'] = age_impute\n",
    "\n",
    "X = # complete\n",
    "\n",
    "scaler = MinMaxScaler()\n",
    "scaler.fit(X)\n",
    "Xminmax = scaler.transform(X)\n",
    "\n",
    "cv_results = cross_val_score( # complete\n",
    "\n",
    "print('The accuracy with the mean for missing ages = {:.2f}%'.format(100*np.mean(cv_results)))"
   ]
  },
  {
   "cell_type": "markdown",
   "metadata": {
    "slideshow": {
     "slide_type": "slide"
    }
   },
   "source": [
    "As far as ages are concerned, imputation of the missing data does not significantly improve the model.\n",
    "\n",
    "Which brings us to the concluding lesson in wrangling the Titanic data - not every piece of information is *useful*. This is critical to remember when building machine learning models. "
   ]
  },
  {
   "cell_type": "markdown",
   "metadata": {
    "slideshow": {
     "slide_type": "subslide"
    }
   },
   "source": [
    "(As a quick aside - it wouldn't be entirely fair to say there is no useful information in the age feature. It is clear, for example, that \"children,\" i.e. those with Age < 10, had a much higher probability of survival than adults. Perhaps the creation of a `child` feature based on age would improve the model... or using the age in combination with other features, e.g., `Age`x`Pclass` which will further highlight that 1st class passengers were more likely to survive than 3rd class passengers)"
   ]
  },
  {
   "cell_type": "markdown",
   "metadata": {
    "slideshow": {
     "slide_type": "subslide"
    }
   },
   "source": [
    "Finally - note that you can try to build a model and submit it to Kaggle to see how well you preform on blind data. \n",
    "\n",
    "https://www.kaggle.com/c/titanic - the classifications are not revealed, but from the [leaderboard](https://www.kaggle.com/c/titanic/leaderboard) it is clear that some people were able to build models that perfectly classified the blind data."
   ]
  },
  {
   "cell_type": "markdown",
   "metadata": {
    "slideshow": {
     "slide_type": "slide"
    }
   },
   "source": [
    "## Problem 4) Wrangling an astro machine learning model"
   ]
  },
  {
   "cell_type": "markdown",
   "metadata": {
    "slideshow": {
     "slide_type": "slide"
    }
   },
   "source": [
    "Now we will put together the above examples to work on an astronomical problem of great importance for LSST: photometric redshifts. As we have previously discussed, LSST will observe many, many, many, many more galaxies than we can possibly observe with spectroscopic instruments. As a result, the vast majority of the galaxies observed by LSST will not have precise redshift estimates, and instead we will need to estimate redshifts via photometry alone. "
   ]
  },
  {
   "cell_type": "markdown",
   "metadata": {
    "slideshow": {
     "slide_type": "subslide"
    }
   },
   "source": [
    "This week we have heard a lot about `SDSS CasJobs`, and for today's problem we will use 50,000 SDSS sources with spectroscopic measurements to train a machine learning model to estimate redshifts from photometry. The following query was used to generate this training set: \n",
    "\n",
    "    select top 50000 s.specObjID, s.z, s.type,\n",
    "       psfMag_u, psfMag_g, psfMag_r, psfMag_i, psfMag_z, \n",
    "       modelMag_u, modelMag_g, modelMag_r, modelMag_i, modelMag_z,\n",
    "       extinction_u, extinction_g, extinction_r, extinction_i, extinction_z,\n",
    "       w.w1mpro, w1snr, w.w2mpro, w2snr, w.w3mpro, w3snr, w.w4mpro, w4snr\n",
    "       from specphotoall s \n",
    "         join (WISE_xmatch wx  \n",
    "           join WISE_allsky w on wx.wise_cntr = w.cntr) on s.objid = wx.sdss_objid"
   ]
  },
  {
   "cell_type": "markdown",
   "metadata": {
    "slideshow": {
     "slide_type": "subslide"
    }
   },
   "source": [
    "A few notes about the data: `specObjID` is the SDSS identifier, `z` is the redshift, `type` is the photometric type (\"ps\" for point source or \"ext\" for extended), `psfMag` is the SDSS PSF mag in each filter, `modelMag` is the aperture-matched model mag in each filter, `extinction` is the SFD extinction estimate, `w?mpro` is the [WISE](https://www.nasa.gov/mission_pages/WISE/main/index.html) satellite mid-IR magnitude in the W1, W2, W3, and W4 bands, and `w?msnr` is the SNR in each of the respective filters. "
   ]
  },
  {
   "cell_type": "markdown",
   "metadata": {
    "slideshow": {
     "slide_type": "skip"
    }
   },
   "source": [
    "*quick aside* - the SDSS photometric type is reported as either 6 or 3, and, for convenience, I have converted these to 'ps' and 'ext' in the file used for the problem below."
   ]
  },
  {
   "cell_type": "markdown",
   "metadata": {
    "slideshow": {
     "slide_type": "subslide"
    }
   },
   "source": [
    "**Important note** - not every SDSS source will have detections in each of the WISE filters. If `w?msnr` < 2, then the `w?mpro` number represents an upper limit, *not* a detection (i.e., these are cases with missing data)."
   ]
  },
  {
   "cell_type": "markdown",
   "metadata": {
    "slideshow": {
     "slide_type": "slide"
    }
   },
   "source": [
    "**Problem 4a**\n",
    "\n",
    "Download and read in the [training set](https://northwestern.box.com/s/sjegm0tx62l2i8dkzqw22s4gmq1a9sg1) for the model. "
   ]
  },
  {
   "cell_type": "code",
   "execution_count": null,
   "metadata": {
    "slideshow": {
     "slide_type": "subslide"
    }
   },
   "outputs": [],
   "source": [
    "sdss = pd.read_csv(\"DSFP_SDSS_spec_train.csv\")\n",
    "sdss[:5]"
   ]
  },
  {
   "cell_type": "markdown",
   "metadata": {
    "slideshow": {
     "slide_type": "slide"
    }
   },
   "source": [
    "**Problem 4b**\n",
    "\n",
    "Are there categorical features in the dataset? If yes, convert the categorical features for use in machine learning models.\n",
    "\n",
    "*Hint* - recall **Problem 3h** and **3i**."
   ]
  },
  {
   "cell_type": "code",
   "execution_count": null,
   "metadata": {
    "slideshow": {
     "slide_type": "subslide"
    }
   },
   "outputs": [],
   "source": [
    "type_dict = create_bin_cat_feats( # complete\n",
    "\n",
    "# complete\n",
    "# complete"
   ]
  },
  {
   "cell_type": "markdown",
   "metadata": {
    "slideshow": {
     "slide_type": "slide"
    }
   },
   "source": [
    "**Problem 4c**\n",
    "\n",
    "Is there missing data in the training set? If yes, how will you deal these data? \n",
    "\n",
    "*Hint* - you were already told there is missing data."
   ]
  },
  {
   "cell_type": "code",
   "execution_count": null,
   "metadata": {
    "slideshow": {
     "slide_type": "subslide"
    }
   },
   "outputs": [],
   "source": [
    "# WISE non-detections have SNR < 2\n",
    "\n",
    "for wsnr in ['w1snr', 'w2snr', 'w3snr', 'w4snr']:\n",
    "    frac_missing = # complete\n",
    "    print('{:.2f}% of the obs in {} are non-detections'.format(100*frac_missing, wsnr[0:2]))"
   ]
  },
  {
   "cell_type": "markdown",
   "metadata": {
    "slideshow": {
     "slide_type": "subslide"
    }
   },
   "source": [
    "Given that there are obs missing in each filter, with a substantial number missing in W3 and W4, we will create a new categorical variable for detection in each filter. We will also replace \"upper limits\" with -9.99 (do this in the cell below).\n",
    "\n",
    "(Alternative strategies that could prove worthwhile include: removing W3 and W4 as they are largely missing, imputing the missing values for non-detections, or removing individual sources with non-detections. This last choice would really cut the training set). "
   ]
  },
  {
   "cell_type": "code",
   "execution_count": null,
   "metadata": {
    "slideshow": {
     "slide_type": "subslide"
    }
   },
   "outputs": [],
   "source": [
    "for filt in ['w1', 'w2', 'w3', 'w4']:\n",
    "    det = np.ones(len(sdss)).astype(int)\n",
    "    det[np.where(sdss['{}snr'.format(filt)] < 2)] = 0\n",
    "    sdss['{}det'.format(filt)] = det\n",
    "    mag = sdss['{}mpro'.format(filt)].values\n",
    "    mag[det == 0] = -9.99\n",
    "    sdss['{}mag'.format(filt)] = mag"
   ]
  },
  {
   "cell_type": "markdown",
   "metadata": {
    "slideshow": {
     "slide_type": "slide"
    }
   },
   "source": [
    "Now that we have dealt with missing and categorical data we can construct out machine learning model. We will use a $k$ nearest neighbors regression model to determine how well we can measure photometric redshifts.\n",
    "\n",
    "The `sdss` dataframe now includes far more columns than are necessary for the model. Should any of these be excluded from the fitting? "
   ]
  },
  {
   "cell_type": "markdown",
   "metadata": {
    "slideshow": {
     "slide_type": "subslide"
    }
   },
   "source": [
    "**Problem 4d**\n",
    "\n",
    "Build a `scikit-learn` appropriate `X` and `y` array for the features and labels (i.e. redshifts) of the photo-z training set."
   ]
  },
  {
   "cell_type": "code",
   "execution_count": null,
   "metadata": {
    "slideshow": {
     "slide_type": "subslide"
    }
   },
   "outputs": [],
   "source": [
    "X = # complete\n",
    "y = # complete"
   ]
  },
  {
   "cell_type": "markdown",
   "metadata": {
    "slideshow": {
     "slide_type": "slide"
    }
   },
   "source": [
    "**Problem 4e**\n",
    "\n",
    "Estimate the RMSE for a [`KNeighborsRegression`](https://scikit-learn.org/stable/modules/generated/sklearn.neighbors.KNeighborsRegressor.html) via 10 fold CV.\n",
    "\n",
    "*Hint* - use [`cross_val_predict`](https://scikit-learn.org/stable/modules/generated/sklearn.model_selection.cross_val_predict.html) in this case so you can plot $z_\\mathrm{SDSS}$ vs. $z_\\mathrm{kNN}$.\n",
    "\n",
    "*Hint 2* - make the plot in a separate cell so you can adjust it without needing to re-run the CV."
   ]
  },
  {
   "cell_type": "code",
   "execution_count": null,
   "metadata": {
    "slideshow": {
     "slide_type": "slide"
    }
   },
   "outputs": [],
   "source": [
    "# cross validation goes here\n",
    "from sklearn.neighbors import KNeighborsRegressor\n",
    "from sklearn.model_selection import cross_val_predict\n",
    "from sklearn.metrics import mean_squared_error\n",
    "\n",
    "knn_reg = # complete\n",
    "y_preds = cross_val_predict( # complete\n",
    "print('The RMSE = {}'.format(np.sqrt(mean_squared_error(y,y_preds))))"
   ]
  },
  {
   "cell_type": "code",
   "execution_count": null,
   "metadata": {
    "slideshow": {
     "slide_type": "subslide"
    }
   },
   "outputs": [],
   "source": [
    "# plotting goes here\n",
    "\n",
    "fig, ax = plt.subplots(figsize=(7,7))\n",
    "ax.scatter( # complete\n",
    "ax.plot([0,6],[0,6], 'Crimson')\n",
    "ax.set_xlabel('z_SDSS')\n",
    "ax.set_ylabel('z_kNN')"
   ]
  },
  {
   "cell_type": "markdown",
   "metadata": {
    "slideshow": {
     "slide_type": "slide"
    }
   },
   "source": [
    "If you made a plot of redshift vs. predictions, you likely saw that there are many sources that are far from the 1 to 1 line. These are called catastrophic outliers, and they are a serious problem for science programs that rely on photometric redshifts. "
   ]
  },
  {
   "cell_type": "markdown",
   "metadata": {
    "slideshow": {
     "slide_type": "subslide"
    }
   },
   "source": [
    "**Problem 4f**\n",
    "\n",
    "Write a function that takes input arrays `ground_truth` and `predictions` and determines the fraction of the dataset that is catastrophic outliers. For today's purposes we will say a catastrophic outlier is one where the prediction differs by 20%. "
   ]
  },
  {
   "cell_type": "code",
   "execution_count": null,
   "metadata": {
    "slideshow": {
     "slide_type": "subslide"
    }
   },
   "outputs": [],
   "source": [
    "def catastrophic_fraction(ground_truth, predictions, threshold=0.2):\n",
    "    '''Function to calculate fraction of predictions that are catastrophic outliers\n",
    "    \n",
    "    Parameter\n",
    "    ---------\n",
    "    ground_truth : array-like\n",
    "        Correct labels for the model sources\n",
    "    \n",
    "    predictions : array-like\n",
    "        Predictions for the model sources\n",
    "    \n",
    "    threshold : float (optional, default=0.2)\n",
    "        The threshold to determine if a \"miss\" is catastrophic or not\n",
    "    \n",
    "    Returns\n",
    "    -------\n",
    "    oh_nos : float\n",
    "        Fractional number of catastrophic outliers\n",
    "    '''\n",
    "    # complete\n",
    "    # complete\n",
    "\n",
    "    return oh_nos"
   ]
  },
  {
   "cell_type": "markdown",
   "metadata": {
    "slideshow": {
     "slide_type": "slide"
    }
   },
   "source": [
    "**Problem 4g**\n",
    "\n",
    "How many catastrophic outliers did your previous predictions have? "
   ]
  },
  {
   "cell_type": "code",
   "execution_count": null,
   "metadata": {
    "slideshow": {
     "slide_type": "subslide"
    }
   },
   "outputs": [],
   "source": [
    "catastrophic_fraction( # complete\n"
   ]
  },
  {
   "cell_type": "markdown",
   "metadata": {
    "slideshow": {
     "slide_type": "slide"
    }
   },
   "source": [
    "Earlier we saw that the performance of a kNN model greatly improves with feature scaling.\n",
    "\n",
    "**Problem 4h**\n",
    "\n",
    "Use a MinMax scaler to scale the features, performs 10 fold cross-validation, and estimate the catastrophic outlier fraction."
   ]
  },
  {
   "cell_type": "code",
   "execution_count": null,
   "metadata": {
    "slideshow": {
     "slide_type": "subslide"
    }
   },
   "outputs": [],
   "source": [
    "scaler = MinMaxScaler()\n",
    "scaler.fit(X)\n",
    "Xminmax = scaler.transform(X)\n",
    "\n",
    "knn_reg = KNeighborsRegressor(n_neighbors=7)\n",
    "y_preds = cross_val_predict( # complete\n",
    "print('The RMSE = {}'.format(np.sqrt(mean_squared_error(y,y_preds))))\n",
    "print('{} are catastrophic'.format(catastrophic_fraction(y, y_preds)))"
   ]
  },
  {
   "cell_type": "code",
   "execution_count": null,
   "metadata": {
    "slideshow": {
     "slide_type": "subslide"
    }
   },
   "outputs": [],
   "source": [
    "# plotting goes here\n",
    "\n",
    "fig, ax = plt.subplots()\n",
    "ax.scatter( # complete\n",
    "ax.plot([0,6],[0,6], 'Crimson')\n",
    "ax.set_xlabel('z_SDSS')\n",
    "ax.set_ylabel('z_kNN')"
   ]
  },
  {
   "cell_type": "markdown",
   "metadata": {
    "slideshow": {
     "slide_type": "slide"
    }
   },
   "source": [
    "The MinMax scaler didn't help at all!\n",
    "\n",
    "Perhaps we need a different kind of wrangling for this data set - feature engineering. (For example, does it make sense to include `extinction` as a feature, or should we instead combine the extinction with the observed magnitudes to get extinction corrected brightness measurements?)\n",
    "\n",
    "Finally - we close with a machine learning question, not a data wrangling question. Does it actually make sense to use a kNN model for datasets that have categorical features? "
   ]
  },
  {
   "cell_type": "markdown",
   "metadata": {
    "slideshow": {
     "slide_type": "slide"
    }
   },
   "source": [
    "**Problem 4i**\n",
    "\n",
    "Build a better machine learning model, possibly with the use of different features, to improve the model classification performance.\n",
    "\n",
    "*Hint* - there was a hint about this in yesterday's lecture."
   ]
  },
  {
   "cell_type": "code",
   "execution_count": null,
   "metadata": {
    "slideshow": {
     "slide_type": "subslide"
    }
   },
   "outputs": [],
   "source": [
    "from sklearn.ensemble import RandomForestRegressor\n",
    "\n",
    "# complete\n",
    "# complete\n",
    "# complete\n",
    "# complete"
   ]
  },
  {
   "cell_type": "code",
   "execution_count": null,
   "metadata": {
    "slideshow": {
     "slide_type": "subslide"
    }
   },
   "outputs": [],
   "source": [
    "# plotting goes here\n",
    "\n",
    "fig, ax = plt.subplots(figsize=(8,8))\n",
    "ax.scatter( # complete\n",
    "ax.plot([0,6],[0,6], 'Crimson')\n",
    "ax.set_xlim(-0.1,4)\n",
    "ax.set_ylim(-0.1,4)\n",
    "ax.set_xlabel('z_SDSS')\n",
    "ax.set_ylabel('z_kNN')"
   ]
  }
 ],
 "metadata": {
  "celltoolbar": "Slideshow",
  "kernelspec": {
   "display_name": "Python 3",
   "language": "python",
   "name": "python3"
  },
  "language_info": {
   "codemirror_mode": {
    "name": "ipython",
    "version": 3
   },
   "file_extension": ".py",
   "mimetype": "text/x-python",
   "name": "python",
   "nbconvert_exporter": "python",
   "pygments_lexer": "ipython3",
   "version": "3.6.8"
  }
 },
 "nbformat": 4,
 "nbformat_minor": 2
}
